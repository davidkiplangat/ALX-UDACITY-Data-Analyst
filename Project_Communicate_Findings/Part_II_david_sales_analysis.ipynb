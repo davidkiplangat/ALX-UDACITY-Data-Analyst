{
 "cells": [
  {
   "cell_type": "markdown",
   "metadata": {
    "slideshow": {
     "slide_type": "slide"
    }
   },
   "source": [
    "# Part II - (Analysis on Sales and Market Perfomance)\n",
    "## by (David Kipngeno Kiplangat)"
   ]
  },
  {
   "cell_type": "markdown",
   "metadata": {
    "slideshow": {
     "slide_type": "slide"
    }
   },
   "source": [
    "\n",
    "## Investigation Overview\n",
    ">**Analysis task steps**\n",
    "the analysis of this task took an approach as indicate below equivalently.\n",
    "\n",
    ">1.Data understanding.\n",
    "\t- This phase i took time to load the data print a sample of the lines and computing basic \n",
    "\t  summary statistics to better understand the data.\n",
    "      \n",
    ">2.Exploratory data analysis and visualization.\n",
    "\tThis section covered the visualization of various variables and description of possible findings.\n",
    "    \n",
    ">3.Explanatory data analysis.\n",
    "\t-the relationship in the data variables were identified, this was followed by attempt to explain the nature of the behaviour of the data.From this phase is where answering of most questions was done.\n",
    "    \n",
    ">4.Conclusion and summary.\n",
    "\tThis entailed the general findings from the data and the possible wisdom derivation from the data. \n",
    "\tAn extensive report was produced providing the guidelines on the way to do the business and the best strategies to approach to better realize the companies goals and objectives\n",
    "    \n",
    ">**Analysis task steps**\n",
    "the analysis of this task took an approach as indicate below equivalently.\n",
    "\n",
    ">1.Data understanding.\n",
    "\t- This phase i took time to load the data print a sample of the lines and computing basic \n",
    "\t  summary atavistic to better understand the data.\n",
    "      \n",
    ">2.Exploratory data analysis and visualization.\n",
    "\t-this section covered the visualization of various variables and description of possible findings.\n",
    "    \n",
    ">3.Explanatory data analysis.\n",
    "\t-the relationship in the data variables were identified, this was followed by attempt to explain the nature of the behaviour of the data. From this phase is where answering of most questions was done.\n",
    "    \n",
    ">4.Conclusion and summary.\n",
    "\tThis entailed the general findings from the data and the possible wisdom derivation from the data. \n",
    "\tAn extensive report was produced providing the guidelines on the way to do the business and the best strategies to approach to better realize the companies goals and objectives\n",
    "    \n",
    "\n",
    "## Dataset Overview\n",
    "\n",
    "> The dataset employed for this task and analysis was originating from business setup environment. \n",
    "The Link to the data source is available : https://docs.google.com/spreadsheets/d/16F2awB6f0w-lWViGMgcEEgm5Xh4kigBkLGMsL_nbcnk/edit#gid=631415463\n",
    "It is contains records of sales profits and items sold from different regions and segments and by different sales persons from a business environment."
   ]
  },
  {
   "cell_type": "code",
   "execution_count": 1,
   "metadata": {
    "slideshow": {
     "slide_type": "slide"
    }
   },
   "outputs": [],
   "source": [
    "# import all packages and set plots to be embedded inline\n",
    "import numpy as np\n",
    "import pandas as pd\n",
    "import matplotlib.pyplot as plt\n",
    "import seaborn as sb\n",
    "import seaborn as sns\n",
    "%matplotlib inline\n",
    "import warnings\n",
    "warnings.filterwarnings('ignore')\n",
    "# suppress warnings from final output\n",
    "import warnings\n",
    "warnings.simplefilter(\"ignore\")"
   ]
  },
  {
   "cell_type": "code",
   "execution_count": 2,
   "metadata": {
    "slideshow": {
     "slide_type": "slide"
    }
   },
   "outputs": [
    {
     "data": {
      "text/html": [
       "<div>\n",
       "<style scoped>\n",
       "    .dataframe tbody tr th:only-of-type {\n",
       "        vertical-align: middle;\n",
       "    }\n",
       "\n",
       "    .dataframe tbody tr th {\n",
       "        vertical-align: top;\n",
       "    }\n",
       "\n",
       "    .dataframe thead th {\n",
       "        text-align: right;\n",
       "    }\n",
       "</style>\n",
       "<table border=\"1\" class=\"dataframe\">\n",
       "  <thead>\n",
       "    <tr style=\"text-align: right;\">\n",
       "      <th></th>\n",
       "      <th>CustomerID</th>\n",
       "      <th>CustomerName</th>\n",
       "      <th>BusinessSegment</th>\n",
       "      <th>Country</th>\n",
       "      <th>Region</th>\n",
       "      <th>State</th>\n",
       "      <th>City</th>\n",
       "      <th>PostalCode</th>\n",
       "      <th>Order ID</th>\n",
       "      <th>Order Date</th>\n",
       "      <th>...</th>\n",
       "      <th>Product Name</th>\n",
       "      <th>Price</th>\n",
       "      <th>Cost</th>\n",
       "      <th>Year</th>\n",
       "      <th>Month</th>\n",
       "      <th>Day</th>\n",
       "      <th>MarkedPrice</th>\n",
       "      <th>BuyingPrice</th>\n",
       "      <th>SellingPrice</th>\n",
       "      <th>Profit</th>\n",
       "    </tr>\n",
       "  </thead>\n",
       "  <tbody>\n",
       "    <tr>\n",
       "      <th>0</th>\n",
       "      <td>A33717C73120</td>\n",
       "      <td>Aaron Bergman</td>\n",
       "      <td>Consumer</td>\n",
       "      <td>United States</td>\n",
       "      <td>Central</td>\n",
       "      <td>Oklahoma</td>\n",
       "      <td>Oklahoma City</td>\n",
       "      <td>73120</td>\n",
       "      <td>CA-2013-140935</td>\n",
       "      <td>2020-11-11</td>\n",
       "      <td>...</td>\n",
       "      <td>Sauder Facets Collection Library, Sky Alder Fi...</td>\n",
       "      <td>142.8000</td>\n",
       "      <td>74.764398</td>\n",
       "      <td>2020.0</td>\n",
       "      <td>11.0</td>\n",
       "      <td>13.0</td>\n",
       "      <td>142.8000</td>\n",
       "      <td>74.764398</td>\n",
       "      <td>142.8000</td>\n",
       "      <td>68.035602</td>\n",
       "    </tr>\n",
       "    <tr>\n",
       "      <th>1</th>\n",
       "      <td>A33717C73120</td>\n",
       "      <td>Aaron Bergman</td>\n",
       "      <td>Consumer</td>\n",
       "      <td>United States</td>\n",
       "      <td>Central</td>\n",
       "      <td>Oklahoma</td>\n",
       "      <td>Oklahoma City</td>\n",
       "      <td>73120</td>\n",
       "      <td>CA-2013-140935</td>\n",
       "      <td>2020-11-11</td>\n",
       "      <td>...</td>\n",
       "      <td>Samsung Convoy 3</td>\n",
       "      <td>76.4444</td>\n",
       "      <td>22.286997</td>\n",
       "      <td>2020.0</td>\n",
       "      <td>11.0</td>\n",
       "      <td>13.0</td>\n",
       "      <td>76.4444</td>\n",
       "      <td>22.286997</td>\n",
       "      <td>76.4444</td>\n",
       "      <td>54.157403</td>\n",
       "    </tr>\n",
       "    <tr>\n",
       "      <th>2</th>\n",
       "      <td>A33717C76017</td>\n",
       "      <td>Aaron Bergman</td>\n",
       "      <td>Consumer</td>\n",
       "      <td>United States</td>\n",
       "      <td>Central</td>\n",
       "      <td>Texas</td>\n",
       "      <td>Arlington</td>\n",
       "      <td>76017</td>\n",
       "      <td>CA-2011-152905</td>\n",
       "      <td>2018-02-19</td>\n",
       "      <td>...</td>\n",
       "      <td>Akro Stacking Bins</td>\n",
       "      <td>7.1538</td>\n",
       "      <td>4.041695</td>\n",
       "      <td>2018.0</td>\n",
       "      <td>2.0</td>\n",
       "      <td>25.0</td>\n",
       "      <td>14.3076</td>\n",
       "      <td>8.083390</td>\n",
       "      <td>14.1076</td>\n",
       "      <td>6.024210</td>\n",
       "    </tr>\n",
       "    <tr>\n",
       "      <th>3</th>\n",
       "      <td>A33717W98103</td>\n",
       "      <td>Aaron Bergman</td>\n",
       "      <td>Consumer</td>\n",
       "      <td>United States</td>\n",
       "      <td>West</td>\n",
       "      <td>Washington</td>\n",
       "      <td>Seattle</td>\n",
       "      <td>98103</td>\n",
       "      <td>CA-2011-156587</td>\n",
       "      <td>2018-03-07</td>\n",
       "      <td>...</td>\n",
       "      <td>Carina 42\"Hx23 3/4\"W Media Storage Unit</td>\n",
       "      <td>74.3636</td>\n",
       "      <td>41.543911</td>\n",
       "      <td>2018.0</td>\n",
       "      <td>3.0</td>\n",
       "      <td>8.0</td>\n",
       "      <td>223.0908</td>\n",
       "      <td>124.631732</td>\n",
       "      <td>223.0908</td>\n",
       "      <td>98.459068</td>\n",
       "    </tr>\n",
       "    <tr>\n",
       "      <th>4</th>\n",
       "      <td>A33717W98103</td>\n",
       "      <td>Aaron Bergman</td>\n",
       "      <td>Consumer</td>\n",
       "      <td>United States</td>\n",
       "      <td>West</td>\n",
       "      <td>Washington</td>\n",
       "      <td>Seattle</td>\n",
       "      <td>98103</td>\n",
       "      <td>CA-2011-156587</td>\n",
       "      <td>2018-03-07</td>\n",
       "      <td>...</td>\n",
       "      <td>Newell 330</td>\n",
       "      <td>5.4545</td>\n",
       "      <td>3.099148</td>\n",
       "      <td>2018.0</td>\n",
       "      <td>3.0</td>\n",
       "      <td>8.0</td>\n",
       "      <td>16.3635</td>\n",
       "      <td>9.297443</td>\n",
       "      <td>16.3635</td>\n",
       "      <td>7.066057</td>\n",
       "    </tr>\n",
       "  </tbody>\n",
       "</table>\n",
       "<p>5 rows × 29 columns</p>\n",
       "</div>"
      ],
      "text/plain": [
       "     CustomerID   CustomerName BusinessSegment        Country   Region  \\\n",
       "0  A33717C73120  Aaron Bergman        Consumer  United States  Central   \n",
       "1  A33717C73120  Aaron Bergman        Consumer  United States  Central   \n",
       "2  A33717C76017  Aaron Bergman        Consumer  United States  Central   \n",
       "3  A33717W98103  Aaron Bergman        Consumer  United States     West   \n",
       "4  A33717W98103  Aaron Bergman        Consumer  United States     West   \n",
       "\n",
       "        State           City  PostalCode        Order ID  Order Date  ...  \\\n",
       "0    Oklahoma  Oklahoma City       73120  CA-2013-140935  2020-11-11  ...   \n",
       "1    Oklahoma  Oklahoma City       73120  CA-2013-140935  2020-11-11  ...   \n",
       "2       Texas      Arlington       76017  CA-2011-152905  2018-02-19  ...   \n",
       "3  Washington        Seattle       98103  CA-2011-156587  2018-03-07  ...   \n",
       "4  Washington        Seattle       98103  CA-2011-156587  2018-03-07  ...   \n",
       "\n",
       "                                        Product Name     Price       Cost  \\\n",
       "0  Sauder Facets Collection Library, Sky Alder Fi...  142.8000  74.764398   \n",
       "1                                   Samsung Convoy 3   76.4444  22.286997   \n",
       "2                                 Akro Stacking Bins    7.1538   4.041695   \n",
       "3            Carina 42\"Hx23 3/4\"W Media Storage Unit   74.3636  41.543911   \n",
       "4                                         Newell 330    5.4545   3.099148   \n",
       "\n",
       "     Year Month   Day MarkedPrice BuyingPrice SellingPrice     Profit  \n",
       "0  2020.0  11.0  13.0    142.8000   74.764398     142.8000  68.035602  \n",
       "1  2020.0  11.0  13.0     76.4444   22.286997      76.4444  54.157403  \n",
       "2  2018.0   2.0  25.0     14.3076    8.083390      14.1076   6.024210  \n",
       "3  2018.0   3.0   8.0    223.0908  124.631732     223.0908  98.459068  \n",
       "4  2018.0   3.0   8.0     16.3635    9.297443      16.3635   7.066057  \n",
       "\n",
       "[5 rows x 29 columns]"
      ]
     },
     "execution_count": 2,
     "metadata": {},
     "output_type": "execute_result"
    }
   ],
   "source": [
    "# load in the dataset into a pandas dataframe\n",
    "# loading the sales data from the csv file\n",
    "data = pd.read_csv('SalesData.csv')\n",
    "data.head()"
   ]
  },
  {
   "cell_type": "markdown",
   "metadata": {
    "slideshow": {
     "slide_type": "slide"
    }
   },
   "source": [
    "**Sales By Profit**\n",
    "I was able to observe that the general sales as compared to profit had an intresting linear relationship. \n",
    "There was a significant positve relationship between the 2. sales made therefore can be said to directly influence the profit likely to meade.\n",
    "With this , it can be said that the sales of a product qualifies to be the predictor of that product as an increase of product sales \n",
    "leads to a corresponding increase of profit it generates."
   ]
  },
  {
   "cell_type": "markdown",
   "metadata": {
    "slideshow": {
     "slide_type": "slide"
    }
   },
   "source": [
    "**Cost By Price Performance** This was made to understand the behaviour of the business in terms of cost undertaken to produce the product\n",
    "and the reflexive amount the product is sold. it was discovered that the cost and price had a positive correlation between each other .\n",
    "A product that consume much resources to produce was equivalent sold at a higher price. This helped to bring a better plough back profit which\n",
    "considerably was the business return on investment. I was as well noted that a certain  2 products had extremely high cost of production and were \n",
    "as well sold at a quite huge price. This is as can be clearly observed in the visualizations below."
   ]
  },
  {
   "cell_type": "markdown",
   "metadata": {
    "slideshow": {
     "slide_type": "slide"
    }
   },
   "source": [
    "**Orders performance**\n",
    "there was none uniform distribution for orders that were made. As it can be observed, the were many orders of 1 and 5.\n",
    "This means that most orders made could not exceed 5 and that this range was the range that was affordably possible to most customers.\n",
    "This suggest that , probably the class purchasing or rather making orders is different. There were significance small orders exceeding 10. \n",
    "That is to say few customers can actually afford this amount and are forced to only within their reach."
   ]
  },
  {
   "cell_type": "markdown",
   "metadata": {
    "slideshow": {
     "slide_type": "slide"
    }
   },
   "source": [
    "**Most Sold Product** Staples was the most sold product followed by every none sticky Binders. \n",
    "This was suggestive that the consumers of the product were mostly office workers. or it could mean that there was a great demand to office furnishing. With the season, the best to invest in would be that one of staples."
   ]
  },
  {
   "cell_type": "markdown",
   "metadata": {
    "slideshow": {
     "slide_type": "slide"
    }
   },
   "source": [
    "**Sales Performance** The sales behaviour for the data set appeared to have several of outlier. There was an exaggerate price of commodities.\n",
    "This can easily to explain whether the commodity also had majority sales and attracted most profits. The price of the commodity could have as well been influenced by the demand of the product.\n",
    "The time between ord3ering of the product and its sale would help to understand how the product traffic was. i.e, if the product takes less time \n",
    "then it translates to its high demand by customers."
   ]
  },
  {
   "cell_type": "markdown",
   "metadata": {
    "slideshow": {
     "slide_type": "slide"
    }
   },
   "source": [
    "**Most Profitable Regions**\n",
    "The regional profit performance was leaded by the region of west and east regions. This regions therefore are worth investing into \n",
    "in as far as profit is concerned."
   ]
  },
  {
   "cell_type": "markdown",
   "metadata": {
    "slideshow": {
     "slide_type": "slide"
    }
   },
   "source": [
    "**Most Profitable Business Segment** the segment of Consumer brought in most profit followed by the segment of corporate and lastly was \n",
    "the segment of Home office."
   ]
  },
  {
   "cell_type": "markdown",
   "metadata": {
    "slideshow": {
     "slide_type": "slide"
    }
   },
   "source": [
    "**Best Performing Year By Profit** the year of 2021 was observed to be at pick of its performance in as far as profit income is considered.\n",
    "This could have be contributed by the marketing strategy employed by the sales persons which could have probably influenced the \n",
    "Purchase pattern of customers and thus attracted most profits."
   ]
  },
  {
   "cell_type": "markdown",
   "metadata": {
    "collapsed": true,
    "slideshow": {
     "slide_type": "slide"
    }
   },
   "source": [
    "## (Visualization)\n",
    "\n",
    "This section showcases the visualization from which the findings and observations have been made in the above section."
   ]
  },
  {
   "cell_type": "code",
   "execution_count": 3,
   "metadata": {
    "slideshow": {
     "slide_type": "slide"
    }
   },
   "outputs": [
    {
     "data": {
      "image/png": "[encoded data removed]",
      "text/plain": [
       "<Figure size 720x360 with 1 Axes>"
      ]
     },
     "metadata": {
      "needs_background": "light"
     },
     "output_type": "display_data"
    }
   ],
   "source": [
    "# Sales made BY profit Earned\n",
    "def plot_Profit_by_sales(data):\n",
    "    # setting the figure size\n",
    "    plt.figure(figsize=[10,5])\n",
    "    # plotting the data\n",
    "    sns.scatterplot(data=data,x='BuyingPrice',y='Profit')\n",
    "    # labelling the figure\n",
    "    plt.xlabel('Buying Price ($)')\n",
    "    plt.ylabel('Profit Made ($)')\n",
    "    plt.title('Sales Revenue by Profit earned')\n",
    "    plt.xticks(rotation=45)\n",
    "    plt.show()\n",
    "plot_Profit_by_sales(data)"
   ]
  },
  {
   "cell_type": "code",
   "execution_count": 4,
   "metadata": {
    "slideshow": {
     "slide_type": "slide"
    }
   },
   "outputs": [
    {
     "data": {
      "image/png": "[encoded data removed]",
      "text/plain": [
       "<Figure size 720x360 with 1 Axes>"
      ]
     },
     "metadata": {
      "needs_background": "light"
     },
     "output_type": "display_data"
    }
   ],
   "source": [
    "# COST TO PRICE UNDERSTANDING AND PLOTTING.\n",
    "def plot_Profit_by_sales(data):\n",
    "    # setting the figure size\n",
    "    plt.figure(figsize=[10,5])\n",
    "    # plotting the data\n",
    "    sns.scatterplot(data=data,x='Cost',y='Price')\n",
    "    # labelling the figure\n",
    "    plt.xlabel('Cost ($)')\n",
    "    plt.ylabel('Costly Price ($)')\n",
    "    plt.title('Sales Revenue by Profit Earned')\n",
    "    plt.show()\n",
    "plot_Profit_by_sales(data)"
   ]
  },
  {
   "cell_type": "code",
   "execution_count": 5,
   "metadata": {
    "slideshow": {
     "slide_type": "subslide"
    }
   },
   "outputs": [
    {
     "data": {
      "image/png": "[encoded data removed]",
      "text/plain": [
       "<Figure size 432x288 with 1 Axes>"
      ]
     },
     "metadata": {
      "needs_background": "light"
     },
     "output_type": "display_data"
    }
   ],
   "source": [
    "# plotting a distribution of the orders sales.\n",
    "sns.distplot(data['OrderQty'])\n",
    "plt.xticks(rotation=45)\n",
    "plt.xlabel('Total Count Of Orders Made')\n",
    "plt.show()\n"
   ]
  },
  {
   "cell_type": "code",
   "execution_count": 6,
   "metadata": {
    "slideshow": {
     "slide_type": "slide"
    }
   },
   "outputs": [
    {
     "data": {
      "image/png": "[encoded data removed]",
      "text/plain": [
       "<Figure size 720x360 with 1 Axes>"
      ]
     },
     "metadata": {
      "needs_background": "light"
     },
     "output_type": "display_data"
    }
   ],
   "source": [
    "# plotting the most sold product.\n",
    "def plot_most_sold_product(data):\n",
    "    most_sold_product = data['Product Name'].value_counts().head(4)\n",
    "    plt.figure(figsize=[10,5])\n",
    "    most_sold_product.plot(kind='bar')\n",
    "    plt.xlabel('Product Name')\n",
    "    plt.ylabel('Frequeny Of Occurence')\n",
    "    plt.title(\"Most Sold Product By Count\")\n",
    "    plt.xticks(rotation=45)\n",
    "    plt.show()\n",
    "# calling the function\n",
    "plot_most_sold_product(data)"
   ]
  },
  {
   "cell_type": "code",
   "execution_count": 7,
   "metadata": {
    "slideshow": {
     "slide_type": "slide"
    }
   },
   "outputs": [
    {
     "data": {
      "image/png": "[encoded data removed]",
      "text/plain": [
       "<Figure size 432x288 with 1 Axes>"
      ]
     },
     "metadata": {
      "needs_background": "light"
     },
     "output_type": "display_data"
    }
   ],
   "source": [
    "# creating a function\n",
    "def yearly_sales(data):\n",
    "    yearlySales = data.groupby('Year')[['BuyingPrice','Profit']].sum()\n",
    "    yearlySales = pd.DataFrame(yearlySales)\n",
    "    yearlySales.plot(kind = 'bar')\n",
    "    plt.xlabel('Year of Sales ($)')\n",
    "    plt.ylabel('Sales and Profits Made ($)')\n",
    "    plt.title('Yearly Sales as Compared To Profits Made')\n",
    "    plt.xticks(rotation=45)\n",
    "    plt.show()\n",
    "# calling the function\n",
    "yearly_sales(data)"
   ]
  },
  {
   "cell_type": "code",
   "execution_count": 10,
   "metadata": {
    "slideshow": {
     "slide_type": "skip"
    }
   },
   "outputs": [],
   "source": [
    "# !jupyter nbconvert Part_II_david_sales_analysis.ipynb --to slides --post serve --no-input --no-prompt"
   ]
  },
  {
   "cell_type": "code",
   "execution_count": null,
   "metadata": {
    "slideshow": {
     "slide_type": "skip"
    }
   },
   "outputs": [],
   "source": []
  }
 ],
 "metadata": {
  "celltoolbar": "Slideshow",
  "kernelspec": {
   "display_name": "Python 3 (ipykernel)",
   "language": "python",
   "name": "python3"
  },
  "language_info": {
   "codemirror_mode": {
    "name": "ipython",
    "version": 3
   },
   "file_extension": ".py",
   "mimetype": "text/x-python",
   "name": "python",
   "nbconvert_exporter": "python",
   "pygments_lexer": "ipython3",
   "version": "3.9.0"
  }
 },
 "nbformat": 4,
 "nbformat_minor": 2
}
