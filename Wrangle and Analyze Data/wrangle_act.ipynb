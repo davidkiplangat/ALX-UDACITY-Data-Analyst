{
 "cells": [
  {
   "cell_type": "code",
   "execution_count": 1,
   "id": "ca16c760",
   "metadata": {},
   "outputs": [],
   "source": [
    "# importing the required packages\n",
    "import pandas as pd\n",
    "import numpy as np\n",
    "import seaborn as sns\n",
    "import matplotlib.pyplot as plt\n",
    "%matplotlib inline"
   ]
  },
  {
   "cell_type": "code",
   "execution_count": 2,
   "id": "e9176715",
   "metadata": {},
   "outputs": [],
   "source": [
    "# ?disabling the warnings\n",
    "import warnings\n",
    "warnings.filterwarnings('ignore')"
   ]
  },
  {
   "cell_type": "code",
   "execution_count": 3,
   "id": "5b156c50",
   "metadata": {},
   "outputs": [],
   "source": [
    "# Json packages\n",
    "import tweepy\n",
    "from tweepy import OAuthHandler\n",
    "import json\n",
    "from timeit import default_timer as timer"
   ]
  },
  {
   "cell_type": "markdown",
   "id": "70452952",
   "metadata": {},
   "source": [
    "### Data Gathering"
   ]
  },
  {
   "cell_type": "markdown",
   "id": "484fc68c",
   "metadata": {},
   "source": [
    "####  1: comma separated values (csv) data source loading"
   ]
  },
  {
   "cell_type": "code",
   "execution_count": 4,
   "id": "5e8da650",
   "metadata": {},
   "outputs": [],
   "source": [
    "# Data loading and processing\n",
    "data = pd.read_csv(\"twitter-archive-enhanced-2.csv\")\n",
    "# creating a local data copy\n",
    "df = data.copy()"
   ]
  },
  {
   "cell_type": "markdown",
   "id": "3c8f8f4f",
   "metadata": {},
   "source": [
    "#### 2 : tab separated values file (tsv)"
   ]
  },
  {
   "cell_type": "code",
   "execution_count": 5,
   "id": "07f0a5fb",
   "metadata": {},
   "outputs": [
    {
     "data": {
      "text/html": [
       "<div>\n",
       "<style scoped>\n",
       "    .dataframe tbody tr th:only-of-type {\n",
       "        vertical-align: middle;\n",
       "    }\n",
       "\n",
       "    .dataframe tbody tr th {\n",
       "        vertical-align: top;\n",
       "    }\n",
       "\n",
       "    .dataframe thead th {\n",
       "        text-align: right;\n",
       "    }\n",
       "</style>\n",
       "<table border=\"1\" class=\"dataframe\">\n",
       "  <thead>\n",
       "    <tr style=\"text-align: right;\">\n",
       "      <th></th>\n",
       "      <th>tweet_id</th>\n",
       "      <th>jpg_url</th>\n",
       "      <th>img_num</th>\n",
       "      <th>p1</th>\n",
       "      <th>p1_conf</th>\n",
       "      <th>p1_dog</th>\n",
       "      <th>p2</th>\n",
       "      <th>p2_conf</th>\n",
       "      <th>p2_dog</th>\n",
       "      <th>p3</th>\n",
       "      <th>p3_conf</th>\n",
       "      <th>p3_dog</th>\n",
       "    </tr>\n",
       "  </thead>\n",
       "  <tbody>\n",
       "    <tr>\n",
       "      <th>0</th>\n",
       "      <td>666020888022790149</td>\n",
       "      <td>https://pbs.twimg.com/media/CT4udn0WwAA0aMy.jpg</td>\n",
       "      <td>1</td>\n",
       "      <td>Welsh_springer_spaniel</td>\n",
       "      <td>0.465074</td>\n",
       "      <td>True</td>\n",
       "      <td>collie</td>\n",
       "      <td>0.156665</td>\n",
       "      <td>True</td>\n",
       "      <td>Shetland_sheepdog</td>\n",
       "      <td>0.061428</td>\n",
       "      <td>True</td>\n",
       "    </tr>\n",
       "    <tr>\n",
       "      <th>1</th>\n",
       "      <td>666029285002620928</td>\n",
       "      <td>https://pbs.twimg.com/media/CT42GRgUYAA5iDo.jpg</td>\n",
       "      <td>1</td>\n",
       "      <td>redbone</td>\n",
       "      <td>0.506826</td>\n",
       "      <td>True</td>\n",
       "      <td>miniature_pinscher</td>\n",
       "      <td>0.074192</td>\n",
       "      <td>True</td>\n",
       "      <td>Rhodesian_ridgeback</td>\n",
       "      <td>0.072010</td>\n",
       "      <td>True</td>\n",
       "    </tr>\n",
       "    <tr>\n",
       "      <th>2</th>\n",
       "      <td>666033412701032449</td>\n",
       "      <td>https://pbs.twimg.com/media/CT4521TWwAEvMyu.jpg</td>\n",
       "      <td>1</td>\n",
       "      <td>German_shepherd</td>\n",
       "      <td>0.596461</td>\n",
       "      <td>True</td>\n",
       "      <td>malinois</td>\n",
       "      <td>0.138584</td>\n",
       "      <td>True</td>\n",
       "      <td>bloodhound</td>\n",
       "      <td>0.116197</td>\n",
       "      <td>True</td>\n",
       "    </tr>\n",
       "    <tr>\n",
       "      <th>3</th>\n",
       "      <td>666044226329800704</td>\n",
       "      <td>https://pbs.twimg.com/media/CT5Dr8HUEAA-lEu.jpg</td>\n",
       "      <td>1</td>\n",
       "      <td>Rhodesian_ridgeback</td>\n",
       "      <td>0.408143</td>\n",
       "      <td>True</td>\n",
       "      <td>redbone</td>\n",
       "      <td>0.360687</td>\n",
       "      <td>True</td>\n",
       "      <td>miniature_pinscher</td>\n",
       "      <td>0.222752</td>\n",
       "      <td>True</td>\n",
       "    </tr>\n",
       "    <tr>\n",
       "      <th>4</th>\n",
       "      <td>666049248165822465</td>\n",
       "      <td>https://pbs.twimg.com/media/CT5IQmsXIAAKY4A.jpg</td>\n",
       "      <td>1</td>\n",
       "      <td>miniature_pinscher</td>\n",
       "      <td>0.560311</td>\n",
       "      <td>True</td>\n",
       "      <td>Rottweiler</td>\n",
       "      <td>0.243682</td>\n",
       "      <td>True</td>\n",
       "      <td>Doberman</td>\n",
       "      <td>0.154629</td>\n",
       "      <td>True</td>\n",
       "    </tr>\n",
       "  </tbody>\n",
       "</table>\n",
       "</div>"
      ],
      "text/plain": [
       "             tweet_id                                          jpg_url  \\\n",
       "0  666020888022790149  https://pbs.twimg.com/media/CT4udn0WwAA0aMy.jpg   \n",
       "1  666029285002620928  https://pbs.twimg.com/media/CT42GRgUYAA5iDo.jpg   \n",
       "2  666033412701032449  https://pbs.twimg.com/media/CT4521TWwAEvMyu.jpg   \n",
       "3  666044226329800704  https://pbs.twimg.com/media/CT5Dr8HUEAA-lEu.jpg   \n",
       "4  666049248165822465  https://pbs.twimg.com/media/CT5IQmsXIAAKY4A.jpg   \n",
       "\n",
       "   img_num                      p1   p1_conf  p1_dog                  p2  \\\n",
       "0        1  Welsh_springer_spaniel  0.465074    True              collie   \n",
       "1        1                 redbone  0.506826    True  miniature_pinscher   \n",
       "2        1         German_shepherd  0.596461    True            malinois   \n",
       "3        1     Rhodesian_ridgeback  0.408143    True             redbone   \n",
       "4        1      miniature_pinscher  0.560311    True          Rottweiler   \n",
       "\n",
       "    p2_conf  p2_dog                   p3   p3_conf  p3_dog  \n",
       "0  0.156665    True    Shetland_sheepdog  0.061428    True  \n",
       "1  0.074192    True  Rhodesian_ridgeback  0.072010    True  \n",
       "2  0.138584    True           bloodhound  0.116197    True  \n",
       "3  0.360687    True   miniature_pinscher  0.222752    True  \n",
       "4  0.243682    True             Doberman  0.154629    True  "
      ]
     },
     "execution_count": 5,
     "metadata": {},
     "output_type": "execute_result"
    }
   ],
   "source": [
    "image = pd.read_csv(\"image-predictions-3.tsv\",sep = \"\\t\")\n",
    "image.head()"
   ]
  },
  {
   "cell_type": "code",
   "execution_count": 6,
   "id": "722ad269",
   "metadata": {},
   "outputs": [
    {
     "data": {
      "text/html": [
       "<div>\n",
       "<style scoped>\n",
       "    .dataframe tbody tr th:only-of-type {\n",
       "        vertical-align: middle;\n",
       "    }\n",
       "\n",
       "    .dataframe tbody tr th {\n",
       "        vertical-align: top;\n",
       "    }\n",
       "\n",
       "    .dataframe thead th {\n",
       "        text-align: right;\n",
       "    }\n",
       "</style>\n",
       "<table border=\"1\" class=\"dataframe\">\n",
       "  <thead>\n",
       "    <tr style=\"text-align: right;\">\n",
       "      <th></th>\n",
       "      <th>tweet_id</th>\n",
       "      <th>jpg_url</th>\n",
       "      <th>img_num</th>\n",
       "      <th>p1</th>\n",
       "      <th>p1_conf</th>\n",
       "      <th>p1_dog</th>\n",
       "      <th>p2</th>\n",
       "      <th>p2_conf</th>\n",
       "      <th>p2_dog</th>\n",
       "      <th>p3</th>\n",
       "      <th>p3_conf</th>\n",
       "      <th>p3_dog</th>\n",
       "    </tr>\n",
       "  </thead>\n",
       "  <tbody>\n",
       "    <tr>\n",
       "      <th>count</th>\n",
       "      <td>2.075000e+03</td>\n",
       "      <td>2075</td>\n",
       "      <td>2075.000000</td>\n",
       "      <td>2075</td>\n",
       "      <td>2075.000000</td>\n",
       "      <td>2075</td>\n",
       "      <td>2075</td>\n",
       "      <td>2.075000e+03</td>\n",
       "      <td>2075</td>\n",
       "      <td>2075</td>\n",
       "      <td>2.075000e+03</td>\n",
       "      <td>2075</td>\n",
       "    </tr>\n",
       "    <tr>\n",
       "      <th>unique</th>\n",
       "      <td>NaN</td>\n",
       "      <td>2009</td>\n",
       "      <td>NaN</td>\n",
       "      <td>378</td>\n",
       "      <td>NaN</td>\n",
       "      <td>2</td>\n",
       "      <td>405</td>\n",
       "      <td>NaN</td>\n",
       "      <td>2</td>\n",
       "      <td>408</td>\n",
       "      <td>NaN</td>\n",
       "      <td>2</td>\n",
       "    </tr>\n",
       "    <tr>\n",
       "      <th>top</th>\n",
       "      <td>NaN</td>\n",
       "      <td>https://pbs.twimg.com/media/CZhn-QAWwAASQan.jpg</td>\n",
       "      <td>NaN</td>\n",
       "      <td>golden_retriever</td>\n",
       "      <td>NaN</td>\n",
       "      <td>True</td>\n",
       "      <td>Labrador_retriever</td>\n",
       "      <td>NaN</td>\n",
       "      <td>True</td>\n",
       "      <td>Labrador_retriever</td>\n",
       "      <td>NaN</td>\n",
       "      <td>True</td>\n",
       "    </tr>\n",
       "    <tr>\n",
       "      <th>freq</th>\n",
       "      <td>NaN</td>\n",
       "      <td>2</td>\n",
       "      <td>NaN</td>\n",
       "      <td>150</td>\n",
       "      <td>NaN</td>\n",
       "      <td>1532</td>\n",
       "      <td>104</td>\n",
       "      <td>NaN</td>\n",
       "      <td>1553</td>\n",
       "      <td>79</td>\n",
       "      <td>NaN</td>\n",
       "      <td>1499</td>\n",
       "    </tr>\n",
       "    <tr>\n",
       "      <th>mean</th>\n",
       "      <td>7.384514e+17</td>\n",
       "      <td>NaN</td>\n",
       "      <td>1.203855</td>\n",
       "      <td>NaN</td>\n",
       "      <td>0.594548</td>\n",
       "      <td>NaN</td>\n",
       "      <td>NaN</td>\n",
       "      <td>1.345886e-01</td>\n",
       "      <td>NaN</td>\n",
       "      <td>NaN</td>\n",
       "      <td>6.032417e-02</td>\n",
       "      <td>NaN</td>\n",
       "    </tr>\n",
       "    <tr>\n",
       "      <th>std</th>\n",
       "      <td>6.785203e+16</td>\n",
       "      <td>NaN</td>\n",
       "      <td>0.561875</td>\n",
       "      <td>NaN</td>\n",
       "      <td>0.271174</td>\n",
       "      <td>NaN</td>\n",
       "      <td>NaN</td>\n",
       "      <td>1.006657e-01</td>\n",
       "      <td>NaN</td>\n",
       "      <td>NaN</td>\n",
       "      <td>5.090593e-02</td>\n",
       "      <td>NaN</td>\n",
       "    </tr>\n",
       "    <tr>\n",
       "      <th>min</th>\n",
       "      <td>6.660209e+17</td>\n",
       "      <td>NaN</td>\n",
       "      <td>1.000000</td>\n",
       "      <td>NaN</td>\n",
       "      <td>0.044333</td>\n",
       "      <td>NaN</td>\n",
       "      <td>NaN</td>\n",
       "      <td>1.011300e-08</td>\n",
       "      <td>NaN</td>\n",
       "      <td>NaN</td>\n",
       "      <td>1.740170e-10</td>\n",
       "      <td>NaN</td>\n",
       "    </tr>\n",
       "    <tr>\n",
       "      <th>25%</th>\n",
       "      <td>6.764835e+17</td>\n",
       "      <td>NaN</td>\n",
       "      <td>1.000000</td>\n",
       "      <td>NaN</td>\n",
       "      <td>0.364412</td>\n",
       "      <td>NaN</td>\n",
       "      <td>NaN</td>\n",
       "      <td>5.388625e-02</td>\n",
       "      <td>NaN</td>\n",
       "      <td>NaN</td>\n",
       "      <td>1.622240e-02</td>\n",
       "      <td>NaN</td>\n",
       "    </tr>\n",
       "    <tr>\n",
       "      <th>50%</th>\n",
       "      <td>7.119988e+17</td>\n",
       "      <td>NaN</td>\n",
       "      <td>1.000000</td>\n",
       "      <td>NaN</td>\n",
       "      <td>0.588230</td>\n",
       "      <td>NaN</td>\n",
       "      <td>NaN</td>\n",
       "      <td>1.181810e-01</td>\n",
       "      <td>NaN</td>\n",
       "      <td>NaN</td>\n",
       "      <td>4.944380e-02</td>\n",
       "      <td>NaN</td>\n",
       "    </tr>\n",
       "    <tr>\n",
       "      <th>75%</th>\n",
       "      <td>7.932034e+17</td>\n",
       "      <td>NaN</td>\n",
       "      <td>1.000000</td>\n",
       "      <td>NaN</td>\n",
       "      <td>0.843855</td>\n",
       "      <td>NaN</td>\n",
       "      <td>NaN</td>\n",
       "      <td>1.955655e-01</td>\n",
       "      <td>NaN</td>\n",
       "      <td>NaN</td>\n",
       "      <td>9.180755e-02</td>\n",
       "      <td>NaN</td>\n",
       "    </tr>\n",
       "    <tr>\n",
       "      <th>max</th>\n",
       "      <td>8.924206e+17</td>\n",
       "      <td>NaN</td>\n",
       "      <td>4.000000</td>\n",
       "      <td>NaN</td>\n",
       "      <td>1.000000</td>\n",
       "      <td>NaN</td>\n",
       "      <td>NaN</td>\n",
       "      <td>4.880140e-01</td>\n",
       "      <td>NaN</td>\n",
       "      <td>NaN</td>\n",
       "      <td>2.734190e-01</td>\n",
       "      <td>NaN</td>\n",
       "    </tr>\n",
       "  </tbody>\n",
       "</table>\n",
       "</div>"
      ],
      "text/plain": [
       "            tweet_id                                          jpg_url  \\\n",
       "count   2.075000e+03                                             2075   \n",
       "unique           NaN                                             2009   \n",
       "top              NaN  https://pbs.twimg.com/media/CZhn-QAWwAASQan.jpg   \n",
       "freq             NaN                                                2   \n",
       "mean    7.384514e+17                                              NaN   \n",
       "std     6.785203e+16                                              NaN   \n",
       "min     6.660209e+17                                              NaN   \n",
       "25%     6.764835e+17                                              NaN   \n",
       "50%     7.119988e+17                                              NaN   \n",
       "75%     7.932034e+17                                              NaN   \n",
       "max     8.924206e+17                                              NaN   \n",
       "\n",
       "            img_num                p1      p1_conf p1_dog                  p2  \\\n",
       "count   2075.000000              2075  2075.000000   2075                2075   \n",
       "unique          NaN               378          NaN      2                 405   \n",
       "top             NaN  golden_retriever          NaN   True  Labrador_retriever   \n",
       "freq            NaN               150          NaN   1532                 104   \n",
       "mean       1.203855               NaN     0.594548    NaN                 NaN   \n",
       "std        0.561875               NaN     0.271174    NaN                 NaN   \n",
       "min        1.000000               NaN     0.044333    NaN                 NaN   \n",
       "25%        1.000000               NaN     0.364412    NaN                 NaN   \n",
       "50%        1.000000               NaN     0.588230    NaN                 NaN   \n",
       "75%        1.000000               NaN     0.843855    NaN                 NaN   \n",
       "max        4.000000               NaN     1.000000    NaN                 NaN   \n",
       "\n",
       "             p2_conf p2_dog                  p3       p3_conf p3_dog  \n",
       "count   2.075000e+03   2075                2075  2.075000e+03   2075  \n",
       "unique           NaN      2                 408           NaN      2  \n",
       "top              NaN   True  Labrador_retriever           NaN   True  \n",
       "freq             NaN   1553                  79           NaN   1499  \n",
       "mean    1.345886e-01    NaN                 NaN  6.032417e-02    NaN  \n",
       "std     1.006657e-01    NaN                 NaN  5.090593e-02    NaN  \n",
       "min     1.011300e-08    NaN                 NaN  1.740170e-10    NaN  \n",
       "25%     5.388625e-02    NaN                 NaN  1.622240e-02    NaN  \n",
       "50%     1.181810e-01    NaN                 NaN  4.944380e-02    NaN  \n",
       "75%     1.955655e-01    NaN                 NaN  9.180755e-02    NaN  \n",
       "max     4.880140e-01    NaN                 NaN  2.734190e-01    NaN  "
      ]
     },
     "execution_count": 6,
     "metadata": {},
     "output_type": "execute_result"
    }
   ],
   "source": [
    "# understanding the image summary statistics\n",
    "image.describe(include='all')"
   ]
  },
  {
   "cell_type": "code",
   "execution_count": 7,
   "id": "6fcb855a",
   "metadata": {},
   "outputs": [
    {
     "name": "stdout",
     "output_type": "stream",
     "text": [
      "          link image_name                image_media image_format\n",
      "0  https://pbs      twimg  com/media/CT4udn0WwAA0aMy          jpg\n",
      "1  https://pbs      twimg  com/media/CT42GRgUYAA5iDo          jpg\n",
      "2  https://pbs      twimg  com/media/CT4521TWwAEvMyu          jpg\n",
      "3  https://pbs      twimg  com/media/CT5Dr8HUEAA-lEu          jpg\n",
      "4  https://pbs      twimg  com/media/CT5IQmsXIAAKY4A          jpg\n",
      "################################################################\n",
      "The shape of data is as shown below\n",
      "(2075, 4)\n"
     ]
    }
   ],
   "source": [
    "# processing the image data\n",
    "link = []\n",
    "img_name = []\n",
    "img_media = []\n",
    "extension=[]\n",
    "for x in range(0,len(image)):\n",
    "    extension = image['jpg_url'][x].split(\".\")\n",
    "#     link = image['jpg_url'][x].split(\".\")[-1]\n",
    "#     img_media = image['jpg_url'][x].split(\".\")[-1]\n",
    "    link.append(extension)\n",
    "tsv_data = pd.DataFrame(link,columns =['link',\"image_name\",\"image_media\",\"image_format\"])\n",
    "print(tsv_data.head())\n",
    "print('################################################################')\n",
    "print('The shape of data is as shown below')\n",
    "print(tsv_data.shape)\n"
   ]
  },
  {
   "cell_type": "markdown",
   "id": "ca09ef75",
   "metadata": {},
   "source": [
    "#### JSON- api data loading"
   ]
  },
  {
   "cell_type": "code",
   "execution_count": 8,
   "id": "cb1ce247",
   "metadata": {},
   "outputs": [
    {
     "name": "stdout",
     "output_type": "stream",
     "text": [
      "the shape of the data is :(2354, 8) \n",
      "--------------------------------------------------\n",
      "           tweet_id  retweet_count  favorite_count\n",
      "count  2.354000e+03    2354.000000     2354.000000\n",
      "mean   7.426978e+17    3164.797366     8080.968564\n",
      "std    6.852812e+16    5284.770364    11814.771334\n",
      "min    6.660209e+17       0.000000        0.000000\n",
      "25%    6.783975e+17     624.500000     1415.000000\n",
      "50%    7.194596e+17    1473.500000     3603.500000\n",
      "75%    7.993058e+17    3652.000000    10122.250000\n",
      "max    8.924206e+17   79515.000000   132810.000000\n",
      "--------------------------------------------------\n",
      "<class 'pandas.core.frame.DataFrame'>\n",
      "RangeIndex: 2354 entries, 0 to 2353\n",
      "Data columns (total 8 columns):\n",
      " #   Column              Non-Null Count  Dtype \n",
      "---  ------              --------------  ----- \n",
      " 0   created_at          2354 non-null   object\n",
      " 1   tweet_id            2354 non-null   int64 \n",
      " 2   user                2354 non-null   object\n",
      " 3   retweet_count       2354 non-null   int64 \n",
      " 4   display_text_range  2354 non-null   object\n",
      " 5   favorite_count      2354 non-null   int64 \n",
      " 6   full_text           2354 non-null   object\n",
      " 7   entities            2354 non-null   object\n",
      "dtypes: int64(3), object(5)\n",
      "memory usage: 147.2+ KB\n"
     ]
    }
   ],
   "source": [
    "json_list = []\n",
    "testlist = []\n",
    "with open('tweet_json.txt') as file:\n",
    "    for line in file:\n",
    "        tweets = json.loads(line)\n",
    "        tweet_id = tweets['id']\n",
    "        retweet_count = tweets['retweet_count']\n",
    "        favorite_count = tweets['favorite_count']\n",
    "        entities = tweets['entities']\n",
    "        full_text = tweets['full_text']\n",
    "        created_at = tweets['created_at']\n",
    "        display_text_range = tweets['display_text_range']\n",
    "        user = tweets['user']\n",
    "        testlist.append(tweets)\n",
    "#         print(testlist)\n",
    "        json_list.append({'tweet_id':tweet_id,\n",
    "                         'retweet_count':retweet_count,\n",
    "                         'favorite_count':favorite_count,\n",
    "                          'full_text': full_text,\n",
    "                          'entities' : entities,\n",
    "                          'created_at': created_at,\n",
    "                          'display_text_range':display_text_range,\n",
    "                          'user':user\n",
    "                         })\n",
    "json_data = pd.DataFrame(json_list,columns=['created_at','tweet_id','user','retweet_count','display_text_range','favorite_count','full_text','entities'])\n",
    "json_data.head()\n",
    "print(f\"the shape of the data is :{json_data.shape} \")\n",
    "print(\"--------------------------------------------------\")\n",
    "print(json_data.describe())\n",
    "\n",
    "\n",
    "print(\"--------------------------------------------------\")\n",
    "json_data.info()\n"
   ]
  },
  {
   "cell_type": "markdown",
   "id": "b8e1007d",
   "metadata": {},
   "source": [
    "#### Data Assessment"
   ]
  },
  {
   "cell_type": "markdown",
   "id": "2003fb8e",
   "metadata": {},
   "source": [
    "#### 1:  Visual Assessment"
   ]
  },
  {
   "cell_type": "code",
   "execution_count": 9,
   "id": "5f4d530f",
   "metadata": {},
   "outputs": [
    {
     "data": {
      "text/html": [
       "<div>\n",
       "<style scoped>\n",
       "    .dataframe tbody tr th:only-of-type {\n",
       "        vertical-align: middle;\n",
       "    }\n",
       "\n",
       "    .dataframe tbody tr th {\n",
       "        vertical-align: top;\n",
       "    }\n",
       "\n",
       "    .dataframe thead th {\n",
       "        text-align: right;\n",
       "    }\n",
       "</style>\n",
       "<table border=\"1\" class=\"dataframe\">\n",
       "  <thead>\n",
       "    <tr style=\"text-align: right;\">\n",
       "      <th></th>\n",
       "      <th>tweet_id</th>\n",
       "      <th>in_reply_to_status_id</th>\n",
       "      <th>in_reply_to_user_id</th>\n",
       "      <th>timestamp</th>\n",
       "      <th>source</th>\n",
       "      <th>text</th>\n",
       "      <th>retweeted_status_id</th>\n",
       "      <th>retweeted_status_user_id</th>\n",
       "      <th>retweeted_status_timestamp</th>\n",
       "      <th>expanded_urls</th>\n",
       "      <th>rating_numerator</th>\n",
       "      <th>rating_denominator</th>\n",
       "      <th>name</th>\n",
       "      <th>doggo</th>\n",
       "      <th>floofer</th>\n",
       "      <th>pupper</th>\n",
       "      <th>puppo</th>\n",
       "    </tr>\n",
       "  </thead>\n",
       "  <tbody>\n",
       "    <tr>\n",
       "      <th>0</th>\n",
       "      <td>892420643555336193</td>\n",
       "      <td>NaN</td>\n",
       "      <td>NaN</td>\n",
       "      <td>2017-08-01 16:23:56 +0000</td>\n",
       "      <td>&lt;a href=\"http://twitter.com/download/iphone\" r...</td>\n",
       "      <td>This is Phineas. He's a mystical boy. Only eve...</td>\n",
       "      <td>NaN</td>\n",
       "      <td>NaN</td>\n",
       "      <td>NaN</td>\n",
       "      <td>https://twitter.com/dog_rates/status/892420643...</td>\n",
       "      <td>13</td>\n",
       "      <td>10</td>\n",
       "      <td>Phineas</td>\n",
       "      <td>None</td>\n",
       "      <td>None</td>\n",
       "      <td>None</td>\n",
       "      <td>None</td>\n",
       "    </tr>\n",
       "    <tr>\n",
       "      <th>1</th>\n",
       "      <td>892177421306343426</td>\n",
       "      <td>NaN</td>\n",
       "      <td>NaN</td>\n",
       "      <td>2017-08-01 00:17:27 +0000</td>\n",
       "      <td>&lt;a href=\"http://twitter.com/download/iphone\" r...</td>\n",
       "      <td>This is Tilly. She's just checking pup on you....</td>\n",
       "      <td>NaN</td>\n",
       "      <td>NaN</td>\n",
       "      <td>NaN</td>\n",
       "      <td>https://twitter.com/dog_rates/status/892177421...</td>\n",
       "      <td>13</td>\n",
       "      <td>10</td>\n",
       "      <td>Tilly</td>\n",
       "      <td>None</td>\n",
       "      <td>None</td>\n",
       "      <td>None</td>\n",
       "      <td>None</td>\n",
       "    </tr>\n",
       "    <tr>\n",
       "      <th>2</th>\n",
       "      <td>891815181378084864</td>\n",
       "      <td>NaN</td>\n",
       "      <td>NaN</td>\n",
       "      <td>2017-07-31 00:18:03 +0000</td>\n",
       "      <td>&lt;a href=\"http://twitter.com/download/iphone\" r...</td>\n",
       "      <td>This is Archie. He is a rare Norwegian Pouncin...</td>\n",
       "      <td>NaN</td>\n",
       "      <td>NaN</td>\n",
       "      <td>NaN</td>\n",
       "      <td>https://twitter.com/dog_rates/status/891815181...</td>\n",
       "      <td>12</td>\n",
       "      <td>10</td>\n",
       "      <td>Archie</td>\n",
       "      <td>None</td>\n",
       "      <td>None</td>\n",
       "      <td>None</td>\n",
       "      <td>None</td>\n",
       "    </tr>\n",
       "    <tr>\n",
       "      <th>3</th>\n",
       "      <td>891689557279858688</td>\n",
       "      <td>NaN</td>\n",
       "      <td>NaN</td>\n",
       "      <td>2017-07-30 15:58:51 +0000</td>\n",
       "      <td>&lt;a href=\"http://twitter.com/download/iphone\" r...</td>\n",
       "      <td>This is Darla. She commenced a snooze mid meal...</td>\n",
       "      <td>NaN</td>\n",
       "      <td>NaN</td>\n",
       "      <td>NaN</td>\n",
       "      <td>https://twitter.com/dog_rates/status/891689557...</td>\n",
       "      <td>13</td>\n",
       "      <td>10</td>\n",
       "      <td>Darla</td>\n",
       "      <td>None</td>\n",
       "      <td>None</td>\n",
       "      <td>None</td>\n",
       "      <td>None</td>\n",
       "    </tr>\n",
       "    <tr>\n",
       "      <th>4</th>\n",
       "      <td>891327558926688256</td>\n",
       "      <td>NaN</td>\n",
       "      <td>NaN</td>\n",
       "      <td>2017-07-29 16:00:24 +0000</td>\n",
       "      <td>&lt;a href=\"http://twitter.com/download/iphone\" r...</td>\n",
       "      <td>This is Franklin. He would like you to stop ca...</td>\n",
       "      <td>NaN</td>\n",
       "      <td>NaN</td>\n",
       "      <td>NaN</td>\n",
       "      <td>https://twitter.com/dog_rates/status/891327558...</td>\n",
       "      <td>12</td>\n",
       "      <td>10</td>\n",
       "      <td>Franklin</td>\n",
       "      <td>None</td>\n",
       "      <td>None</td>\n",
       "      <td>None</td>\n",
       "      <td>None</td>\n",
       "    </tr>\n",
       "  </tbody>\n",
       "</table>\n",
       "</div>"
      ],
      "text/plain": [
       "             tweet_id  in_reply_to_status_id  in_reply_to_user_id  \\\n",
       "0  892420643555336193                    NaN                  NaN   \n",
       "1  892177421306343426                    NaN                  NaN   \n",
       "2  891815181378084864                    NaN                  NaN   \n",
       "3  891689557279858688                    NaN                  NaN   \n",
       "4  891327558926688256                    NaN                  NaN   \n",
       "\n",
       "                   timestamp  \\\n",
       "0  2017-08-01 16:23:56 +0000   \n",
       "1  2017-08-01 00:17:27 +0000   \n",
       "2  2017-07-31 00:18:03 +0000   \n",
       "3  2017-07-30 15:58:51 +0000   \n",
       "4  2017-07-29 16:00:24 +0000   \n",
       "\n",
       "                                              source  \\\n",
       "0  <a href=\"http://twitter.com/download/iphone\" r...   \n",
       "1  <a href=\"http://twitter.com/download/iphone\" r...   \n",
       "2  <a href=\"http://twitter.com/download/iphone\" r...   \n",
       "3  <a href=\"http://twitter.com/download/iphone\" r...   \n",
       "4  <a href=\"http://twitter.com/download/iphone\" r...   \n",
       "\n",
       "                                                text  retweeted_status_id  \\\n",
       "0  This is Phineas. He's a mystical boy. Only eve...                  NaN   \n",
       "1  This is Tilly. She's just checking pup on you....                  NaN   \n",
       "2  This is Archie. He is a rare Norwegian Pouncin...                  NaN   \n",
       "3  This is Darla. She commenced a snooze mid meal...                  NaN   \n",
       "4  This is Franklin. He would like you to stop ca...                  NaN   \n",
       "\n",
       "   retweeted_status_user_id retweeted_status_timestamp  \\\n",
       "0                       NaN                        NaN   \n",
       "1                       NaN                        NaN   \n",
       "2                       NaN                        NaN   \n",
       "3                       NaN                        NaN   \n",
       "4                       NaN                        NaN   \n",
       "\n",
       "                                       expanded_urls  rating_numerator  \\\n",
       "0  https://twitter.com/dog_rates/status/892420643...                13   \n",
       "1  https://twitter.com/dog_rates/status/892177421...                13   \n",
       "2  https://twitter.com/dog_rates/status/891815181...                12   \n",
       "3  https://twitter.com/dog_rates/status/891689557...                13   \n",
       "4  https://twitter.com/dog_rates/status/891327558...                12   \n",
       "\n",
       "   rating_denominator      name doggo floofer pupper puppo  \n",
       "0                  10   Phineas  None    None   None  None  \n",
       "1                  10     Tilly  None    None   None  None  \n",
       "2                  10    Archie  None    None   None  None  \n",
       "3                  10     Darla  None    None   None  None  \n",
       "4                  10  Franklin  None    None   None  None  "
      ]
     },
     "execution_count": 9,
     "metadata": {},
     "output_type": "execute_result"
    }
   ],
   "source": [
    "# printing the head of the data\n",
    "data.head()"
   ]
  },
  {
   "cell_type": "code",
   "execution_count": 10,
   "id": "9c84ab78",
   "metadata": {},
   "outputs": [
    {
     "data": {
      "text/html": [
       "<div>\n",
       "<style scoped>\n",
       "    .dataframe tbody tr th:only-of-type {\n",
       "        vertical-align: middle;\n",
       "    }\n",
       "\n",
       "    .dataframe tbody tr th {\n",
       "        vertical-align: top;\n",
       "    }\n",
       "\n",
       "    .dataframe thead th {\n",
       "        text-align: right;\n",
       "    }\n",
       "</style>\n",
       "<table border=\"1\" class=\"dataframe\">\n",
       "  <thead>\n",
       "    <tr style=\"text-align: right;\">\n",
       "      <th></th>\n",
       "      <th>tweet_id</th>\n",
       "      <th>in_reply_to_status_id</th>\n",
       "      <th>in_reply_to_user_id</th>\n",
       "      <th>timestamp</th>\n",
       "      <th>source</th>\n",
       "      <th>text</th>\n",
       "      <th>retweeted_status_id</th>\n",
       "      <th>retweeted_status_user_id</th>\n",
       "      <th>retweeted_status_timestamp</th>\n",
       "      <th>expanded_urls</th>\n",
       "      <th>rating_numerator</th>\n",
       "      <th>rating_denominator</th>\n",
       "      <th>name</th>\n",
       "      <th>doggo</th>\n",
       "      <th>floofer</th>\n",
       "      <th>pupper</th>\n",
       "      <th>puppo</th>\n",
       "    </tr>\n",
       "  </thead>\n",
       "  <tbody>\n",
       "    <tr>\n",
       "      <th>2351</th>\n",
       "      <td>666049248165822465</td>\n",
       "      <td>NaN</td>\n",
       "      <td>NaN</td>\n",
       "      <td>2015-11-16 00:24:50 +0000</td>\n",
       "      <td>&lt;a href=\"http://twitter.com/download/iphone\" r...</td>\n",
       "      <td>Here we have a 1949 1st generation vulpix. Enj...</td>\n",
       "      <td>NaN</td>\n",
       "      <td>NaN</td>\n",
       "      <td>NaN</td>\n",
       "      <td>https://twitter.com/dog_rates/status/666049248...</td>\n",
       "      <td>5</td>\n",
       "      <td>10</td>\n",
       "      <td>None</td>\n",
       "      <td>None</td>\n",
       "      <td>None</td>\n",
       "      <td>None</td>\n",
       "      <td>None</td>\n",
       "    </tr>\n",
       "    <tr>\n",
       "      <th>2352</th>\n",
       "      <td>666044226329800704</td>\n",
       "      <td>NaN</td>\n",
       "      <td>NaN</td>\n",
       "      <td>2015-11-16 00:04:52 +0000</td>\n",
       "      <td>&lt;a href=\"http://twitter.com/download/iphone\" r...</td>\n",
       "      <td>This is a purebred Piers Morgan. Loves to Netf...</td>\n",
       "      <td>NaN</td>\n",
       "      <td>NaN</td>\n",
       "      <td>NaN</td>\n",
       "      <td>https://twitter.com/dog_rates/status/666044226...</td>\n",
       "      <td>6</td>\n",
       "      <td>10</td>\n",
       "      <td>a</td>\n",
       "      <td>None</td>\n",
       "      <td>None</td>\n",
       "      <td>None</td>\n",
       "      <td>None</td>\n",
       "    </tr>\n",
       "    <tr>\n",
       "      <th>2353</th>\n",
       "      <td>666033412701032449</td>\n",
       "      <td>NaN</td>\n",
       "      <td>NaN</td>\n",
       "      <td>2015-11-15 23:21:54 +0000</td>\n",
       "      <td>&lt;a href=\"http://twitter.com/download/iphone\" r...</td>\n",
       "      <td>Here is a very happy pup. Big fan of well-main...</td>\n",
       "      <td>NaN</td>\n",
       "      <td>NaN</td>\n",
       "      <td>NaN</td>\n",
       "      <td>https://twitter.com/dog_rates/status/666033412...</td>\n",
       "      <td>9</td>\n",
       "      <td>10</td>\n",
       "      <td>a</td>\n",
       "      <td>None</td>\n",
       "      <td>None</td>\n",
       "      <td>None</td>\n",
       "      <td>None</td>\n",
       "    </tr>\n",
       "    <tr>\n",
       "      <th>2354</th>\n",
       "      <td>666029285002620928</td>\n",
       "      <td>NaN</td>\n",
       "      <td>NaN</td>\n",
       "      <td>2015-11-15 23:05:30 +0000</td>\n",
       "      <td>&lt;a href=\"http://twitter.com/download/iphone\" r...</td>\n",
       "      <td>This is a western brown Mitsubishi terrier. Up...</td>\n",
       "      <td>NaN</td>\n",
       "      <td>NaN</td>\n",
       "      <td>NaN</td>\n",
       "      <td>https://twitter.com/dog_rates/status/666029285...</td>\n",
       "      <td>7</td>\n",
       "      <td>10</td>\n",
       "      <td>a</td>\n",
       "      <td>None</td>\n",
       "      <td>None</td>\n",
       "      <td>None</td>\n",
       "      <td>None</td>\n",
       "    </tr>\n",
       "    <tr>\n",
       "      <th>2355</th>\n",
       "      <td>666020888022790149</td>\n",
       "      <td>NaN</td>\n",
       "      <td>NaN</td>\n",
       "      <td>2015-11-15 22:32:08 +0000</td>\n",
       "      <td>&lt;a href=\"http://twitter.com/download/iphone\" r...</td>\n",
       "      <td>Here we have a Japanese Irish Setter. Lost eye...</td>\n",
       "      <td>NaN</td>\n",
       "      <td>NaN</td>\n",
       "      <td>NaN</td>\n",
       "      <td>https://twitter.com/dog_rates/status/666020888...</td>\n",
       "      <td>8</td>\n",
       "      <td>10</td>\n",
       "      <td>None</td>\n",
       "      <td>None</td>\n",
       "      <td>None</td>\n",
       "      <td>None</td>\n",
       "      <td>None</td>\n",
       "    </tr>\n",
       "  </tbody>\n",
       "</table>\n",
       "</div>"
      ],
      "text/plain": [
       "                tweet_id  in_reply_to_status_id  in_reply_to_user_id  \\\n",
       "2351  666049248165822465                    NaN                  NaN   \n",
       "2352  666044226329800704                    NaN                  NaN   \n",
       "2353  666033412701032449                    NaN                  NaN   \n",
       "2354  666029285002620928                    NaN                  NaN   \n",
       "2355  666020888022790149                    NaN                  NaN   \n",
       "\n",
       "                      timestamp  \\\n",
       "2351  2015-11-16 00:24:50 +0000   \n",
       "2352  2015-11-16 00:04:52 +0000   \n",
       "2353  2015-11-15 23:21:54 +0000   \n",
       "2354  2015-11-15 23:05:30 +0000   \n",
       "2355  2015-11-15 22:32:08 +0000   \n",
       "\n",
       "                                                 source  \\\n",
       "2351  <a href=\"http://twitter.com/download/iphone\" r...   \n",
       "2352  <a href=\"http://twitter.com/download/iphone\" r...   \n",
       "2353  <a href=\"http://twitter.com/download/iphone\" r...   \n",
       "2354  <a href=\"http://twitter.com/download/iphone\" r...   \n",
       "2355  <a href=\"http://twitter.com/download/iphone\" r...   \n",
       "\n",
       "                                                   text  retweeted_status_id  \\\n",
       "2351  Here we have a 1949 1st generation vulpix. Enj...                  NaN   \n",
       "2352  This is a purebred Piers Morgan. Loves to Netf...                  NaN   \n",
       "2353  Here is a very happy pup. Big fan of well-main...                  NaN   \n",
       "2354  This is a western brown Mitsubishi terrier. Up...                  NaN   \n",
       "2355  Here we have a Japanese Irish Setter. Lost eye...                  NaN   \n",
       "\n",
       "      retweeted_status_user_id retweeted_status_timestamp  \\\n",
       "2351                       NaN                        NaN   \n",
       "2352                       NaN                        NaN   \n",
       "2353                       NaN                        NaN   \n",
       "2354                       NaN                        NaN   \n",
       "2355                       NaN                        NaN   \n",
       "\n",
       "                                          expanded_urls  rating_numerator  \\\n",
       "2351  https://twitter.com/dog_rates/status/666049248...                 5   \n",
       "2352  https://twitter.com/dog_rates/status/666044226...                 6   \n",
       "2353  https://twitter.com/dog_rates/status/666033412...                 9   \n",
       "2354  https://twitter.com/dog_rates/status/666029285...                 7   \n",
       "2355  https://twitter.com/dog_rates/status/666020888...                 8   \n",
       "\n",
       "      rating_denominator  name doggo floofer pupper puppo  \n",
       "2351                  10  None  None    None   None  None  \n",
       "2352                  10     a  None    None   None  None  \n",
       "2353                  10     a  None    None   None  None  \n",
       "2354                  10     a  None    None   None  None  \n",
       "2355                  10  None  None    None   None  None  "
      ]
     },
     "execution_count": 10,
     "metadata": {},
     "output_type": "execute_result"
    }
   ],
   "source": [
    "# printing the tail of the data\n",
    "data.tail()"
   ]
  },
  {
   "cell_type": "code",
   "execution_count": 11,
   "id": "57743d2f",
   "metadata": {},
   "outputs": [
    {
     "data": {
      "text/html": [
       "<div>\n",
       "<style scoped>\n",
       "    .dataframe tbody tr th:only-of-type {\n",
       "        vertical-align: middle;\n",
       "    }\n",
       "\n",
       "    .dataframe tbody tr th {\n",
       "        vertical-align: top;\n",
       "    }\n",
       "\n",
       "    .dataframe thead th {\n",
       "        text-align: right;\n",
       "    }\n",
       "</style>\n",
       "<table border=\"1\" class=\"dataframe\">\n",
       "  <thead>\n",
       "    <tr style=\"text-align: right;\">\n",
       "      <th></th>\n",
       "      <th>tweet_id</th>\n",
       "      <th>in_reply_to_status_id</th>\n",
       "      <th>in_reply_to_user_id</th>\n",
       "      <th>timestamp</th>\n",
       "      <th>source</th>\n",
       "      <th>text</th>\n",
       "      <th>retweeted_status_id</th>\n",
       "      <th>retweeted_status_user_id</th>\n",
       "      <th>retweeted_status_timestamp</th>\n",
       "      <th>expanded_urls</th>\n",
       "      <th>rating_numerator</th>\n",
       "      <th>rating_denominator</th>\n",
       "      <th>name</th>\n",
       "      <th>doggo</th>\n",
       "      <th>floofer</th>\n",
       "      <th>pupper</th>\n",
       "      <th>puppo</th>\n",
       "    </tr>\n",
       "  </thead>\n",
       "  <tbody>\n",
       "    <tr>\n",
       "      <th>1997</th>\n",
       "      <td>672591271085670400</td>\n",
       "      <td>NaN</td>\n",
       "      <td>NaN</td>\n",
       "      <td>2015-12-04 01:40:29 +0000</td>\n",
       "      <td>&lt;a href=\"http://twitter.com/download/iphone\" r...</td>\n",
       "      <td>Lots of pups here. All are Judea Hazelnuts. Ex...</td>\n",
       "      <td>NaN</td>\n",
       "      <td>NaN</td>\n",
       "      <td>NaN</td>\n",
       "      <td>https://twitter.com/dog_rates/status/672591271...</td>\n",
       "      <td>8</td>\n",
       "      <td>10</td>\n",
       "      <td>None</td>\n",
       "      <td>None</td>\n",
       "      <td>None</td>\n",
       "      <td>None</td>\n",
       "      <td>None</td>\n",
       "    </tr>\n",
       "    <tr>\n",
       "      <th>303</th>\n",
       "      <td>836397794269200385</td>\n",
       "      <td>NaN</td>\n",
       "      <td>NaN</td>\n",
       "      <td>2017-02-28 02:09:08 +0000</td>\n",
       "      <td>&lt;a href=\"http://twitter.com/download/iphone\" r...</td>\n",
       "      <td>RT @dog_rates: This is Buddy. He ran into a gl...</td>\n",
       "      <td>8.178278e+17</td>\n",
       "      <td>4.196984e+09</td>\n",
       "      <td>2017-01-07 20:18:46 +0000</td>\n",
       "      <td>https://twitter.com/dog_rates/status/817827839...</td>\n",
       "      <td>13</td>\n",
       "      <td>10</td>\n",
       "      <td>Buddy</td>\n",
       "      <td>None</td>\n",
       "      <td>None</td>\n",
       "      <td>None</td>\n",
       "      <td>None</td>\n",
       "    </tr>\n",
       "    <tr>\n",
       "      <th>249</th>\n",
       "      <td>845306882940190720</td>\n",
       "      <td>NaN</td>\n",
       "      <td>NaN</td>\n",
       "      <td>2017-03-24 16:10:40 +0000</td>\n",
       "      <td>&lt;a href=\"http://twitter.com/download/iphone\" r...</td>\n",
       "      <td>This is Pickles. She's a silly pupper. Thinks ...</td>\n",
       "      <td>NaN</td>\n",
       "      <td>NaN</td>\n",
       "      <td>NaN</td>\n",
       "      <td>https://twitter.com/dog_rates/status/845306882...</td>\n",
       "      <td>12</td>\n",
       "      <td>10</td>\n",
       "      <td>Pickles</td>\n",
       "      <td>None</td>\n",
       "      <td>None</td>\n",
       "      <td>pupper</td>\n",
       "      <td>None</td>\n",
       "    </tr>\n",
       "    <tr>\n",
       "      <th>1968</th>\n",
       "      <td>673320132811366400</td>\n",
       "      <td>NaN</td>\n",
       "      <td>NaN</td>\n",
       "      <td>2015-12-06 01:56:44 +0000</td>\n",
       "      <td>&lt;a href=\"http://twitter.com/download/iphone\" r...</td>\n",
       "      <td>This is Frankie. He's wearing blush. 11/10 rea...</td>\n",
       "      <td>NaN</td>\n",
       "      <td>NaN</td>\n",
       "      <td>NaN</td>\n",
       "      <td>https://twitter.com/dog_rates/status/673320132...</td>\n",
       "      <td>11</td>\n",
       "      <td>10</td>\n",
       "      <td>Frankie</td>\n",
       "      <td>None</td>\n",
       "      <td>None</td>\n",
       "      <td>None</td>\n",
       "      <td>None</td>\n",
       "    </tr>\n",
       "    <tr>\n",
       "      <th>501</th>\n",
       "      <td>813096984823349248</td>\n",
       "      <td>NaN</td>\n",
       "      <td>NaN</td>\n",
       "      <td>2016-12-25 19:00:02 +0000</td>\n",
       "      <td>&lt;a href=\"http://twitter.com/download/iphone\" r...</td>\n",
       "      <td>This is Rocky. He got triple-doggo-dared. Stuc...</td>\n",
       "      <td>NaN</td>\n",
       "      <td>NaN</td>\n",
       "      <td>NaN</td>\n",
       "      <td>https://twitter.com/dog_rates/status/813096984...</td>\n",
       "      <td>11</td>\n",
       "      <td>10</td>\n",
       "      <td>Rocky</td>\n",
       "      <td>doggo</td>\n",
       "      <td>None</td>\n",
       "      <td>None</td>\n",
       "      <td>None</td>\n",
       "    </tr>\n",
       "  </tbody>\n",
       "</table>\n",
       "</div>"
      ],
      "text/plain": [
       "                tweet_id  in_reply_to_status_id  in_reply_to_user_id  \\\n",
       "1997  672591271085670400                    NaN                  NaN   \n",
       "303   836397794269200385                    NaN                  NaN   \n",
       "249   845306882940190720                    NaN                  NaN   \n",
       "1968  673320132811366400                    NaN                  NaN   \n",
       "501   813096984823349248                    NaN                  NaN   \n",
       "\n",
       "                      timestamp  \\\n",
       "1997  2015-12-04 01:40:29 +0000   \n",
       "303   2017-02-28 02:09:08 +0000   \n",
       "249   2017-03-24 16:10:40 +0000   \n",
       "1968  2015-12-06 01:56:44 +0000   \n",
       "501   2016-12-25 19:00:02 +0000   \n",
       "\n",
       "                                                 source  \\\n",
       "1997  <a href=\"http://twitter.com/download/iphone\" r...   \n",
       "303   <a href=\"http://twitter.com/download/iphone\" r...   \n",
       "249   <a href=\"http://twitter.com/download/iphone\" r...   \n",
       "1968  <a href=\"http://twitter.com/download/iphone\" r...   \n",
       "501   <a href=\"http://twitter.com/download/iphone\" r...   \n",
       "\n",
       "                                                   text  retweeted_status_id  \\\n",
       "1997  Lots of pups here. All are Judea Hazelnuts. Ex...                  NaN   \n",
       "303   RT @dog_rates: This is Buddy. He ran into a gl...         8.178278e+17   \n",
       "249   This is Pickles. She's a silly pupper. Thinks ...                  NaN   \n",
       "1968  This is Frankie. He's wearing blush. 11/10 rea...                  NaN   \n",
       "501   This is Rocky. He got triple-doggo-dared. Stuc...                  NaN   \n",
       "\n",
       "      retweeted_status_user_id retweeted_status_timestamp  \\\n",
       "1997                       NaN                        NaN   \n",
       "303               4.196984e+09  2017-01-07 20:18:46 +0000   \n",
       "249                        NaN                        NaN   \n",
       "1968                       NaN                        NaN   \n",
       "501                        NaN                        NaN   \n",
       "\n",
       "                                          expanded_urls  rating_numerator  \\\n",
       "1997  https://twitter.com/dog_rates/status/672591271...                 8   \n",
       "303   https://twitter.com/dog_rates/status/817827839...                13   \n",
       "249   https://twitter.com/dog_rates/status/845306882...                12   \n",
       "1968  https://twitter.com/dog_rates/status/673320132...                11   \n",
       "501   https://twitter.com/dog_rates/status/813096984...                11   \n",
       "\n",
       "      rating_denominator     name  doggo floofer  pupper puppo  \n",
       "1997                  10     None   None    None    None  None  \n",
       "303                   10    Buddy   None    None    None  None  \n",
       "249                   10  Pickles   None    None  pupper  None  \n",
       "1968                  10  Frankie   None    None    None  None  \n",
       "501                   10    Rocky  doggo    None    None  None  "
      ]
     },
     "execution_count": 11,
     "metadata": {},
     "output_type": "execute_result"
    }
   ],
   "source": [
    "# getting the sample data values\n",
    "data.sample(5)"
   ]
  },
  {
   "cell_type": "code",
   "execution_count": 12,
   "id": "f373a166",
   "metadata": {},
   "outputs": [
    {
     "data": {
      "text/html": [
       "<div>\n",
       "<style scoped>\n",
       "    .dataframe tbody tr th:only-of-type {\n",
       "        vertical-align: middle;\n",
       "    }\n",
       "\n",
       "    .dataframe tbody tr th {\n",
       "        vertical-align: top;\n",
       "    }\n",
       "\n",
       "    .dataframe thead th {\n",
       "        text-align: right;\n",
       "    }\n",
       "</style>\n",
       "<table border=\"1\" class=\"dataframe\">\n",
       "  <thead>\n",
       "    <tr style=\"text-align: right;\">\n",
       "      <th></th>\n",
       "      <th>count</th>\n",
       "      <th>mean</th>\n",
       "      <th>std</th>\n",
       "      <th>min</th>\n",
       "      <th>25%</th>\n",
       "      <th>50%</th>\n",
       "      <th>75%</th>\n",
       "      <th>max</th>\n",
       "    </tr>\n",
       "  </thead>\n",
       "  <tbody>\n",
       "    <tr>\n",
       "      <th>tweet_id</th>\n",
       "      <td>2356.0</td>\n",
       "      <td>7.427716e+17</td>\n",
       "      <td>6.856705e+16</td>\n",
       "      <td>6.660209e+17</td>\n",
       "      <td>6.783989e+17</td>\n",
       "      <td>7.196279e+17</td>\n",
       "      <td>7.993373e+17</td>\n",
       "      <td>8.924206e+17</td>\n",
       "    </tr>\n",
       "    <tr>\n",
       "      <th>in_reply_to_status_id</th>\n",
       "      <td>78.0</td>\n",
       "      <td>7.455079e+17</td>\n",
       "      <td>7.582492e+16</td>\n",
       "      <td>6.658147e+17</td>\n",
       "      <td>6.757419e+17</td>\n",
       "      <td>7.038708e+17</td>\n",
       "      <td>8.257804e+17</td>\n",
       "      <td>8.862664e+17</td>\n",
       "    </tr>\n",
       "    <tr>\n",
       "      <th>in_reply_to_user_id</th>\n",
       "      <td>78.0</td>\n",
       "      <td>2.014171e+16</td>\n",
       "      <td>1.252797e+17</td>\n",
       "      <td>1.185634e+07</td>\n",
       "      <td>3.086374e+08</td>\n",
       "      <td>4.196984e+09</td>\n",
       "      <td>4.196984e+09</td>\n",
       "      <td>8.405479e+17</td>\n",
       "    </tr>\n",
       "    <tr>\n",
       "      <th>retweeted_status_id</th>\n",
       "      <td>181.0</td>\n",
       "      <td>7.720400e+17</td>\n",
       "      <td>6.236928e+16</td>\n",
       "      <td>6.661041e+17</td>\n",
       "      <td>7.186315e+17</td>\n",
       "      <td>7.804657e+17</td>\n",
       "      <td>8.203146e+17</td>\n",
       "      <td>8.874740e+17</td>\n",
       "    </tr>\n",
       "    <tr>\n",
       "      <th>retweeted_status_user_id</th>\n",
       "      <td>181.0</td>\n",
       "      <td>1.241698e+16</td>\n",
       "      <td>9.599254e+16</td>\n",
       "      <td>7.832140e+05</td>\n",
       "      <td>4.196984e+09</td>\n",
       "      <td>4.196984e+09</td>\n",
       "      <td>4.196984e+09</td>\n",
       "      <td>7.874618e+17</td>\n",
       "    </tr>\n",
       "    <tr>\n",
       "      <th>rating_numerator</th>\n",
       "      <td>2356.0</td>\n",
       "      <td>1.312649e+01</td>\n",
       "      <td>4.587665e+01</td>\n",
       "      <td>0.000000e+00</td>\n",
       "      <td>1.000000e+01</td>\n",
       "      <td>1.100000e+01</td>\n",
       "      <td>1.200000e+01</td>\n",
       "      <td>1.776000e+03</td>\n",
       "    </tr>\n",
       "    <tr>\n",
       "      <th>rating_denominator</th>\n",
       "      <td>2356.0</td>\n",
       "      <td>1.045543e+01</td>\n",
       "      <td>6.745237e+00</td>\n",
       "      <td>0.000000e+00</td>\n",
       "      <td>1.000000e+01</td>\n",
       "      <td>1.000000e+01</td>\n",
       "      <td>1.000000e+01</td>\n",
       "      <td>1.700000e+02</td>\n",
       "    </tr>\n",
       "  </tbody>\n",
       "</table>\n",
       "</div>"
      ],
      "text/plain": [
       "                           count          mean           std           min  \\\n",
       "tweet_id                  2356.0  7.427716e+17  6.856705e+16  6.660209e+17   \n",
       "in_reply_to_status_id       78.0  7.455079e+17  7.582492e+16  6.658147e+17   \n",
       "in_reply_to_user_id         78.0  2.014171e+16  1.252797e+17  1.185634e+07   \n",
       "retweeted_status_id        181.0  7.720400e+17  6.236928e+16  6.661041e+17   \n",
       "retweeted_status_user_id   181.0  1.241698e+16  9.599254e+16  7.832140e+05   \n",
       "rating_numerator          2356.0  1.312649e+01  4.587665e+01  0.000000e+00   \n",
       "rating_denominator        2356.0  1.045543e+01  6.745237e+00  0.000000e+00   \n",
       "\n",
       "                                   25%           50%           75%  \\\n",
       "tweet_id                  6.783989e+17  7.196279e+17  7.993373e+17   \n",
       "in_reply_to_status_id     6.757419e+17  7.038708e+17  8.257804e+17   \n",
       "in_reply_to_user_id       3.086374e+08  4.196984e+09  4.196984e+09   \n",
       "retweeted_status_id       7.186315e+17  7.804657e+17  8.203146e+17   \n",
       "retweeted_status_user_id  4.196984e+09  4.196984e+09  4.196984e+09   \n",
       "rating_numerator          1.000000e+01  1.100000e+01  1.200000e+01   \n",
       "rating_denominator        1.000000e+01  1.000000e+01  1.000000e+01   \n",
       "\n",
       "                                   max  \n",
       "tweet_id                  8.924206e+17  \n",
       "in_reply_to_status_id     8.862664e+17  \n",
       "in_reply_to_user_id       8.405479e+17  \n",
       "retweeted_status_id       8.874740e+17  \n",
       "retweeted_status_user_id  7.874618e+17  \n",
       "rating_numerator          1.776000e+03  \n",
       "rating_denominator        1.700000e+02  "
      ]
     },
     "execution_count": 12,
     "metadata": {},
     "output_type": "execute_result"
    }
   ],
   "source": [
    "# understanding the data summary statistics\n",
    "data.describe().T"
   ]
  },
  {
   "cell_type": "code",
   "execution_count": 13,
   "id": "267b9d81",
   "metadata": {},
   "outputs": [
    {
     "name": "stdout",
     "output_type": "stream",
     "text": [
      "<class 'pandas.core.frame.DataFrame'>\n",
      "RangeIndex: 2356 entries, 0 to 2355\n",
      "Data columns (total 17 columns):\n",
      " #   Column                      Non-Null Count  Dtype  \n",
      "---  ------                      --------------  -----  \n",
      " 0   tweet_id                    2356 non-null   int64  \n",
      " 1   in_reply_to_status_id       78 non-null     float64\n",
      " 2   in_reply_to_user_id         78 non-null     float64\n",
      " 3   timestamp                   2356 non-null   object \n",
      " 4   source                      2356 non-null   object \n",
      " 5   text                        2356 non-null   object \n",
      " 6   retweeted_status_id         181 non-null    float64\n",
      " 7   retweeted_status_user_id    181 non-null    float64\n",
      " 8   retweeted_status_timestamp  181 non-null    object \n",
      " 9   expanded_urls               2297 non-null   object \n",
      " 10  rating_numerator            2356 non-null   int64  \n",
      " 11  rating_denominator          2356 non-null   int64  \n",
      " 12  name                        2356 non-null   object \n",
      " 13  doggo                       2356 non-null   object \n",
      " 14  floofer                     2356 non-null   object \n",
      " 15  pupper                      2356 non-null   object \n",
      " 16  puppo                       2356 non-null   object \n",
      "dtypes: float64(4), int64(3), object(10)\n",
      "memory usage: 313.0+ KB\n"
     ]
    }
   ],
   "source": [
    "# getting the data types and information\n",
    "data.info()"
   ]
  },
  {
   "cell_type": "markdown",
   "id": "0f2761d9",
   "metadata": {},
   "source": [
    "#### 2 : Programmatic Assessment"
   ]
  },
  {
   "cell_type": "code",
   "execution_count": 14,
   "id": "b6efe33f",
   "metadata": {},
   "outputs": [
    {
     "data": {
      "text/plain": [
       "(17, 2356)"
      ]
     },
     "execution_count": 14,
     "metadata": {},
     "output_type": "execute_result"
    }
   ],
   "source": [
    "data.T.shape"
   ]
  },
  {
   "cell_type": "code",
   "execution_count": 15,
   "id": "71f24fb9",
   "metadata": {},
   "outputs": [
    {
     "data": {
      "text/html": [
       "<div>\n",
       "<style scoped>\n",
       "    .dataframe tbody tr th:only-of-type {\n",
       "        vertical-align: middle;\n",
       "    }\n",
       "\n",
       "    .dataframe tbody tr th {\n",
       "        vertical-align: top;\n",
       "    }\n",
       "\n",
       "    .dataframe thead th {\n",
       "        text-align: right;\n",
       "    }\n",
       "</style>\n",
       "<table border=\"1\" class=\"dataframe\">\n",
       "  <thead>\n",
       "    <tr style=\"text-align: right;\">\n",
       "      <th></th>\n",
       "      <th>tweet_id</th>\n",
       "      <th>in_reply_to_status_id</th>\n",
       "      <th>in_reply_to_user_id</th>\n",
       "      <th>timestamp</th>\n",
       "      <th>source</th>\n",
       "      <th>text</th>\n",
       "      <th>retweeted_status_id</th>\n",
       "      <th>retweeted_status_user_id</th>\n",
       "      <th>retweeted_status_timestamp</th>\n",
       "      <th>expanded_urls</th>\n",
       "      <th>rating_numerator</th>\n",
       "      <th>rating_denominator</th>\n",
       "      <th>name</th>\n",
       "      <th>doggo</th>\n",
       "      <th>floofer</th>\n",
       "      <th>pupper</th>\n",
       "      <th>puppo</th>\n",
       "    </tr>\n",
       "  </thead>\n",
       "  <tbody>\n",
       "    <tr>\n",
       "      <th>200</th>\n",
       "      <td>854010172552949760</td>\n",
       "      <td>NaN</td>\n",
       "      <td>NaN</td>\n",
       "      <td>2017-04-17 16:34:26 +0000</td>\n",
       "      <td>&lt;a href=\"http://twitter.com/download/iphone\" r...</td>\n",
       "      <td>At first I thought this was a shy doggo, but i...</td>\n",
       "      <td>NaN</td>\n",
       "      <td>NaN</td>\n",
       "      <td>NaN</td>\n",
       "      <td>https://twitter.com/dog_rates/status/854010172...</td>\n",
       "      <td>11</td>\n",
       "      <td>10</td>\n",
       "      <td>None</td>\n",
       "      <td>doggo</td>\n",
       "      <td>floofer</td>\n",
       "      <td>None</td>\n",
       "      <td>None</td>\n",
       "    </tr>\n",
       "  </tbody>\n",
       "</table>\n",
       "</div>"
      ],
      "text/plain": [
       "               tweet_id  in_reply_to_status_id  in_reply_to_user_id  \\\n",
       "200  854010172552949760                    NaN                  NaN   \n",
       "\n",
       "                     timestamp  \\\n",
       "200  2017-04-17 16:34:26 +0000   \n",
       "\n",
       "                                                source  \\\n",
       "200  <a href=\"http://twitter.com/download/iphone\" r...   \n",
       "\n",
       "                                                  text  retweeted_status_id  \\\n",
       "200  At first I thought this was a shy doggo, but i...                  NaN   \n",
       "\n",
       "     retweeted_status_user_id retweeted_status_timestamp  \\\n",
       "200                       NaN                        NaN   \n",
       "\n",
       "                                         expanded_urls  rating_numerator  \\\n",
       "200  https://twitter.com/dog_rates/status/854010172...                11   \n",
       "\n",
       "     rating_denominator  name  doggo  floofer pupper puppo  \n",
       "200                  10  None  doggo  floofer   None  None  "
      ]
     },
     "execution_count": 15,
     "metadata": {},
     "output_type": "execute_result"
    }
   ],
   "source": [
    "data[(data.doggo!=\"None\") & (data.floofer!=\"None\") ]"
   ]
  },
  {
   "cell_type": "code",
   "execution_count": 16,
   "id": "f4bb8d37",
   "metadata": {},
   "outputs": [
    {
     "data": {
      "text/html": [
       "<div>\n",
       "<style scoped>\n",
       "    .dataframe tbody tr th:only-of-type {\n",
       "        vertical-align: middle;\n",
       "    }\n",
       "\n",
       "    .dataframe tbody tr th {\n",
       "        vertical-align: top;\n",
       "    }\n",
       "\n",
       "    .dataframe thead th {\n",
       "        text-align: right;\n",
       "    }\n",
       "</style>\n",
       "<table border=\"1\" class=\"dataframe\">\n",
       "  <thead>\n",
       "    <tr style=\"text-align: right;\">\n",
       "      <th></th>\n",
       "      <th>tweet_id</th>\n",
       "      <th>in_reply_to_status_id</th>\n",
       "      <th>in_reply_to_user_id</th>\n",
       "      <th>timestamp</th>\n",
       "      <th>source</th>\n",
       "      <th>text</th>\n",
       "      <th>retweeted_status_id</th>\n",
       "      <th>retweeted_status_user_id</th>\n",
       "      <th>retweeted_status_timestamp</th>\n",
       "      <th>expanded_urls</th>\n",
       "      <th>rating_numerator</th>\n",
       "      <th>rating_denominator</th>\n",
       "      <th>name</th>\n",
       "      <th>doggo</th>\n",
       "      <th>floofer</th>\n",
       "      <th>pupper</th>\n",
       "      <th>puppo</th>\n",
       "    </tr>\n",
       "  </thead>\n",
       "  <tbody>\n",
       "  </tbody>\n",
       "</table>\n",
       "</div>"
      ],
      "text/plain": [
       "Empty DataFrame\n",
       "Columns: [tweet_id, in_reply_to_status_id, in_reply_to_user_id, timestamp, source, text, retweeted_status_id, retweeted_status_user_id, retweeted_status_timestamp, expanded_urls, rating_numerator, rating_denominator, name, doggo, floofer, pupper, puppo]\n",
       "Index: []"
      ]
     },
     "execution_count": 16,
     "metadata": {},
     "output_type": "execute_result"
    }
   ],
   "source": [
    "data[(data.pupper !=\"None\") & (data.floofer!=\"None\") ]"
   ]
  },
  {
   "cell_type": "code",
   "execution_count": 17,
   "id": "6eb38972",
   "metadata": {},
   "outputs": [
    {
     "data": {
      "text/plain": [
       "None     2259\n",
       "doggo      97\n",
       "Name: doggo, dtype: int64"
      ]
     },
     "execution_count": 17,
     "metadata": {},
     "output_type": "execute_result"
    }
   ],
   "source": [
    "data.doggo.value_counts()"
   ]
  },
  {
   "cell_type": "markdown",
   "id": "5f80e7cb",
   "metadata": {},
   "source": [
    "\"\"\"tweet_id is the last part of the tweet URL after \"status/\" → https://twitter.com/dog_rates/status/889531135344209921\n",
    "p1 is the algorithm's #1 prediction for the image in the tweet → golden retriever\n",
    "p1_conf is how confident the algorithm is in its #1 prediction → 95%\n",
    "p1_dog is whether or not the #1 prediction is a breed of dog → TRUE\n",
    "p2 is the algorithm's second most likely prediction → Labrador retriever\n",
    "p2_conf is how confident the algorithm is in its #2 prediction → 1%\n",
    "p2_dog is whether or not the #2 prediction is a breed of dog → TRUE\n",
    "etc.\"\"\""
   ]
  },
  {
   "cell_type": "markdown",
   "id": "ff21981d",
   "metadata": {},
   "source": [
    "visual assessment and observations made"
   ]
  },
  {
   "cell_type": "markdown",
   "id": "7e4c1ac5",
   "metadata": {},
   "source": [
    "#### Data Tidyness:\n",
    "   A)  data stacture is not tidy as observed.\n",
    "    very variable does not form a column in the dataset, there are columns in the likes of entities with more variables in them. this thus disagrees with the rules of tidy data. Every column being a variable.<br>\n",
    "    B) it can be observed tha not every cell is not a single value. there are cell observed to contain multiples elements in them. a good example as observed was the cell of belonging to the column users. it had the details of the user within the same cell. This bridge the rule of having a single element in a single single. <br>\n",
    "    C) The data semantic is also observed to have been compromised, for instance. the columns doggo, floofer, pupper and puppo are the dogs breeds and needed to have been stored in a single."
   ]
  },
  {
   "cell_type": "code",
   "execution_count": 18,
   "id": "c3e9f18f",
   "metadata": {},
   "outputs": [
    {
     "data": {
      "text/plain": [
       "['doggo', 'floofer', 'pupper', 'puppo']"
      ]
     },
     "execution_count": 18,
     "metadata": {},
     "output_type": "execute_result"
    }
   ],
   "source": [
    "# Data Understanding\n",
    "# we need to tidy the columns doggo,floofer, pupper and puppo to make a single column of breeds\n",
    "breeds = data[['doggo', 'floofer', 'pupper', 'puppo']]\n",
    "breeds.columns.to_list()"
   ]
  },
  {
   "cell_type": "code",
   "execution_count": 19,
   "id": "5ecbd779",
   "metadata": {},
   "outputs": [],
   "source": [
    "# data.columns.to_list()"
   ]
  },
  {
   "cell_type": "code",
   "execution_count": 20,
   "id": "45f96338",
   "metadata": {},
   "outputs": [
    {
     "data": {
      "text/plain": [
       "((2356, 17), (2356, 17))"
      ]
     },
     "execution_count": 20,
     "metadata": {},
     "output_type": "execute_result"
    }
   ],
   "source": [
    "# perfoming a melt on the data\n",
    "data_with_breeds=pd.melt(data,\n",
    "        id_vars=['tweet_id',\n",
    " 'in_reply_to_status_id',\n",
    " 'in_reply_to_user_id',\n",
    " 'timestamp',\n",
    " 'source',\n",
    " 'text',\n",
    " 'retweeted_status_id',\n",
    " 'retweeted_status_user_id',\n",
    " 'retweeted_status_timestamp',\n",
    " 'expanded_urls',\n",
    " 'rating_numerator',\n",
    " 'rating_denominator',\n",
    " 'name',],\n",
    "       value_vars=breeds.columns.to_list(),\n",
    "       value_name='Breed',)\n",
    "data.shape,data.shape"
   ]
  },
  {
   "cell_type": "code",
   "execution_count": 21,
   "id": "7e07f50a",
   "metadata": {},
   "outputs": [
    {
     "data": {
      "text/plain": [
       "(9424, 15)"
      ]
     },
     "execution_count": 21,
     "metadata": {},
     "output_type": "execute_result"
    }
   ],
   "source": [
    "data_with_breeds.shape"
   ]
  },
  {
   "cell_type": "code",
   "execution_count": 22,
   "id": "91e40e6e",
   "metadata": {},
   "outputs": [
    {
     "data": {
      "text/plain": [
       "<AxesSubplot:>"
      ]
     },
     "execution_count": 22,
     "metadata": {},
     "output_type": "execute_result"
    },
    {
     "data": {
      "image/png": "[encoded data removed]",
      "text/plain": [
       "<Figure size 432x288 with 1 Axes>"
      ]
     },
     "metadata": {
      "needs_background": "light"
     },
     "output_type": "display_data"
    }
   ],
   "source": [
    "# checking for the distributioin of None values in the dataset\n",
    "data_with_breeds[data_with_breeds.Breed==\"None\"].count().sort_values(ascending=False).plot(kind='bar')\n",
    "# it appears the columns that are not much affected by the None probles are only the three, retweetd status, retweeted status user id, timestamp reply status and reply user id\n",
    "# quite insightfull. most tweets were actually replied and that is what we are noticing."
   ]
  },
  {
   "cell_type": "code",
   "execution_count": 23,
   "id": "3327f662",
   "metadata": {},
   "outputs": [
    {
     "data": {
      "text/plain": [
       "<AxesSubplot:>"
      ]
     },
     "execution_count": 23,
     "metadata": {},
     "output_type": "execute_result"
    },
    {
     "data": {
      "image/png": "[encoded data removed]",
      "text/plain": [
       "<Figure size 432x288 with 1 Axes>"
      ]
     },
     "metadata": {
      "needs_background": "light"
     },
     "output_type": "display_data"
    }
   ],
   "source": [
    "data_with_breeds[data_with_breeds.Breed!=\"None\"].count().sort_values(ascending=False).plot(kind='bar')"
   ]
  },
  {
   "cell_type": "code",
   "execution_count": 24,
   "id": "1226df98",
   "metadata": {},
   "outputs": [
    {
     "data": {
      "text/plain": [
       "<AxesSubplot:>"
      ]
     },
     "execution_count": 24,
     "metadata": {},
     "output_type": "execute_result"
    },
    {
     "data": {
      "image/png": "[encoded data removed]",
      "text/plain": [
       "<Figure size 432x288 with 1 Axes>"
      ]
     },
     "metadata": {
      "needs_background": "light"
     },
     "output_type": "display_data"
    }
   ],
   "source": [
    "data_with_breeds[data_with_breeds.Breed!=\"None\"].Breed.value_counts().plot(kind='bar',)"
   ]
  },
  {
   "cell_type": "code",
   "execution_count": 25,
   "id": "1daf5d77",
   "metadata": {},
   "outputs": [
    {
     "name": "stdout",
     "output_type": "stream",
     "text": [
      "(2356, 17) (394, 15)\n"
     ]
    }
   ],
   "source": [
    "print(data.shape,data_with_breeds[data_with_breeds.Breed!=\"None\"].shape)"
   ]
  },
  {
   "cell_type": "code",
   "execution_count": 26,
   "id": "81a7c5b4",
   "metadata": {},
   "outputs": [
    {
     "data": {
      "text/plain": [
       "(226, 15)"
      ]
     },
     "execution_count": 26,
     "metadata": {},
     "output_type": "execute_result"
    }
   ],
   "source": [
    "data_with_breeds[(data_with_breeds.Breed!=\"None\") & (data_with_breeds.name!='None')].shape"
   ]
  },
  {
   "cell_type": "code",
   "execution_count": 27,
   "id": "d8ee668f",
   "metadata": {},
   "outputs": [
    {
     "data": {
      "text/plain": [
       "(226, 15)"
      ]
     },
     "execution_count": 27,
     "metadata": {},
     "output_type": "execute_result"
    }
   ],
   "source": [
    "data = data_with_breeds[(data_with_breeds.Breed!=\"None\") & (data_with_breeds.name!='None')]\n",
    "data.shape"
   ]
  },
  {
   "cell_type": "code",
   "execution_count": 28,
   "id": "49cc7069",
   "metadata": {},
   "outputs": [
    {
     "data": {
      "text/html": [
       "<div>\n",
       "<style scoped>\n",
       "    .dataframe tbody tr th:only-of-type {\n",
       "        vertical-align: middle;\n",
       "    }\n",
       "\n",
       "    .dataframe tbody tr th {\n",
       "        vertical-align: top;\n",
       "    }\n",
       "\n",
       "    .dataframe thead th {\n",
       "        text-align: right;\n",
       "    }\n",
       "</style>\n",
       "<table border=\"1\" class=\"dataframe\">\n",
       "  <thead>\n",
       "    <tr style=\"text-align: right;\">\n",
       "      <th></th>\n",
       "      <th>tweet_id</th>\n",
       "      <th>in_reply_to_status_id</th>\n",
       "      <th>in_reply_to_user_id</th>\n",
       "      <th>timestamp</th>\n",
       "      <th>source</th>\n",
       "      <th>text</th>\n",
       "      <th>retweeted_status_id</th>\n",
       "      <th>retweeted_status_user_id</th>\n",
       "      <th>retweeted_status_timestamp</th>\n",
       "      <th>expanded_urls</th>\n",
       "      <th>rating_numerator</th>\n",
       "      <th>rating_denominator</th>\n",
       "      <th>name</th>\n",
       "      <th>doggo</th>\n",
       "      <th>floofer</th>\n",
       "      <th>pupper</th>\n",
       "      <th>puppo</th>\n",
       "    </tr>\n",
       "  </thead>\n",
       "  <tbody>\n",
       "    <tr>\n",
       "      <th>0</th>\n",
       "      <td>892420643555336193</td>\n",
       "      <td>NaN</td>\n",
       "      <td>NaN</td>\n",
       "      <td>2017-08-01 16:23:56 +0000</td>\n",
       "      <td>&lt;a href=\"http://twitter.com/download/iphone\" r...</td>\n",
       "      <td>This is Phineas. He's a mystical boy. Only eve...</td>\n",
       "      <td>NaN</td>\n",
       "      <td>NaN</td>\n",
       "      <td>NaN</td>\n",
       "      <td>https://twitter.com/dog_rates/status/892420643...</td>\n",
       "      <td>13</td>\n",
       "      <td>10</td>\n",
       "      <td>Phineas</td>\n",
       "      <td>None</td>\n",
       "      <td>None</td>\n",
       "      <td>None</td>\n",
       "      <td>None</td>\n",
       "    </tr>\n",
       "    <tr>\n",
       "      <th>1</th>\n",
       "      <td>892177421306343426</td>\n",
       "      <td>NaN</td>\n",
       "      <td>NaN</td>\n",
       "      <td>2017-08-01 00:17:27 +0000</td>\n",
       "      <td>&lt;a href=\"http://twitter.com/download/iphone\" r...</td>\n",
       "      <td>This is Tilly. She's just checking pup on you....</td>\n",
       "      <td>NaN</td>\n",
       "      <td>NaN</td>\n",
       "      <td>NaN</td>\n",
       "      <td>https://twitter.com/dog_rates/status/892177421...</td>\n",
       "      <td>13</td>\n",
       "      <td>10</td>\n",
       "      <td>Tilly</td>\n",
       "      <td>None</td>\n",
       "      <td>None</td>\n",
       "      <td>None</td>\n",
       "      <td>None</td>\n",
       "    </tr>\n",
       "    <tr>\n",
       "      <th>2</th>\n",
       "      <td>891815181378084864</td>\n",
       "      <td>NaN</td>\n",
       "      <td>NaN</td>\n",
       "      <td>2017-07-31 00:18:03 +0000</td>\n",
       "      <td>&lt;a href=\"http://twitter.com/download/iphone\" r...</td>\n",
       "      <td>This is Archie. He is a rare Norwegian Pouncin...</td>\n",
       "      <td>NaN</td>\n",
       "      <td>NaN</td>\n",
       "      <td>NaN</td>\n",
       "      <td>https://twitter.com/dog_rates/status/891815181...</td>\n",
       "      <td>12</td>\n",
       "      <td>10</td>\n",
       "      <td>Archie</td>\n",
       "      <td>None</td>\n",
       "      <td>None</td>\n",
       "      <td>None</td>\n",
       "      <td>None</td>\n",
       "    </tr>\n",
       "    <tr>\n",
       "      <th>3</th>\n",
       "      <td>891689557279858688</td>\n",
       "      <td>NaN</td>\n",
       "      <td>NaN</td>\n",
       "      <td>2017-07-30 15:58:51 +0000</td>\n",
       "      <td>&lt;a href=\"http://twitter.com/download/iphone\" r...</td>\n",
       "      <td>This is Darla. She commenced a snooze mid meal...</td>\n",
       "      <td>NaN</td>\n",
       "      <td>NaN</td>\n",
       "      <td>NaN</td>\n",
       "      <td>https://twitter.com/dog_rates/status/891689557...</td>\n",
       "      <td>13</td>\n",
       "      <td>10</td>\n",
       "      <td>Darla</td>\n",
       "      <td>None</td>\n",
       "      <td>None</td>\n",
       "      <td>None</td>\n",
       "      <td>None</td>\n",
       "    </tr>\n",
       "    <tr>\n",
       "      <th>4</th>\n",
       "      <td>891327558926688256</td>\n",
       "      <td>NaN</td>\n",
       "      <td>NaN</td>\n",
       "      <td>2017-07-29 16:00:24 +0000</td>\n",
       "      <td>&lt;a href=\"http://twitter.com/download/iphone\" r...</td>\n",
       "      <td>This is Franklin. He would like you to stop ca...</td>\n",
       "      <td>NaN</td>\n",
       "      <td>NaN</td>\n",
       "      <td>NaN</td>\n",
       "      <td>https://twitter.com/dog_rates/status/891327558...</td>\n",
       "      <td>12</td>\n",
       "      <td>10</td>\n",
       "      <td>Franklin</td>\n",
       "      <td>None</td>\n",
       "      <td>None</td>\n",
       "      <td>None</td>\n",
       "      <td>None</td>\n",
       "    </tr>\n",
       "  </tbody>\n",
       "</table>\n",
       "</div>"
      ],
      "text/plain": [
       "             tweet_id  in_reply_to_status_id  in_reply_to_user_id  \\\n",
       "0  892420643555336193                    NaN                  NaN   \n",
       "1  892177421306343426                    NaN                  NaN   \n",
       "2  891815181378084864                    NaN                  NaN   \n",
       "3  891689557279858688                    NaN                  NaN   \n",
       "4  891327558926688256                    NaN                  NaN   \n",
       "\n",
       "                   timestamp  \\\n",
       "0  2017-08-01 16:23:56 +0000   \n",
       "1  2017-08-01 00:17:27 +0000   \n",
       "2  2017-07-31 00:18:03 +0000   \n",
       "3  2017-07-30 15:58:51 +0000   \n",
       "4  2017-07-29 16:00:24 +0000   \n",
       "\n",
       "                                              source  \\\n",
       "0  <a href=\"http://twitter.com/download/iphone\" r...   \n",
       "1  <a href=\"http://twitter.com/download/iphone\" r...   \n",
       "2  <a href=\"http://twitter.com/download/iphone\" r...   \n",
       "3  <a href=\"http://twitter.com/download/iphone\" r...   \n",
       "4  <a href=\"http://twitter.com/download/iphone\" r...   \n",
       "\n",
       "                                                text  retweeted_status_id  \\\n",
       "0  This is Phineas. He's a mystical boy. Only eve...                  NaN   \n",
       "1  This is Tilly. She's just checking pup on you....                  NaN   \n",
       "2  This is Archie. He is a rare Norwegian Pouncin...                  NaN   \n",
       "3  This is Darla. She commenced a snooze mid meal...                  NaN   \n",
       "4  This is Franklin. He would like you to stop ca...                  NaN   \n",
       "\n",
       "   retweeted_status_user_id retweeted_status_timestamp  \\\n",
       "0                       NaN                        NaN   \n",
       "1                       NaN                        NaN   \n",
       "2                       NaN                        NaN   \n",
       "3                       NaN                        NaN   \n",
       "4                       NaN                        NaN   \n",
       "\n",
       "                                       expanded_urls  rating_numerator  \\\n",
       "0  https://twitter.com/dog_rates/status/892420643...                13   \n",
       "1  https://twitter.com/dog_rates/status/892177421...                13   \n",
       "2  https://twitter.com/dog_rates/status/891815181...                12   \n",
       "3  https://twitter.com/dog_rates/status/891689557...                13   \n",
       "4  https://twitter.com/dog_rates/status/891327558...                12   \n",
       "\n",
       "   rating_denominator      name doggo floofer pupper puppo  \n",
       "0                  10   Phineas  None    None   None  None  \n",
       "1                  10     Tilly  None    None   None  None  \n",
       "2                  10    Archie  None    None   None  None  \n",
       "3                  10     Darla  None    None   None  None  \n",
       "4                  10  Franklin  None    None   None  None  "
      ]
     },
     "execution_count": 28,
     "metadata": {},
     "output_type": "execute_result"
    }
   ],
   "source": [
    "df.head()"
   ]
  },
  {
   "cell_type": "code",
   "execution_count": 29,
   "id": "ac292108",
   "metadata": {},
   "outputs": [
    {
     "data": {
      "text/plain": [
       "<AxesSubplot:>"
      ]
     },
     "execution_count": 29,
     "metadata": {},
     "output_type": "execute_result"
    },
    {
     "data": {
      "image/png": "[encoded data removed]",
      "text/plain": [
       "<Figure size 432x288 with 1 Axes>"
      ]
     },
     "metadata": {
      "needs_background": "light"
     },
     "output_type": "display_data"
    }
   ],
   "source": [
    "missing_ration = (df.isna().sum()/df.shape[0])*100\n",
    "missing_percentage = missing_ration[missing_ration.values > 0.0].sort_values(ascending=False)\n",
    "missing_percentage.plot(kind='bar')\n",
    "# all this columns are missing data, we cant drop them as it would not be prudent. best approach is to fill them with 0.\n",
    "# this is becouse, tweet as a coplumn for instance must not neccessarity have a retweet. so if a user tweeted and the tweet was not reacted to."
   ]
  },
  {
   "cell_type": "markdown",
   "id": "ca7448ba",
   "metadata": {},
   "source": [
    "#### 2: Data Quality Issues\n",
    " a) the data has numerous missing values, this can be seen from the nan values in the cells <br>\n",
    " b) there is data inconsistency being observed, specifically the records. <br>\n",
    " c) a significant percentage of data had none data items. this means the data cant be operated upon as none cant be statistically operated upon. <br>\n",
    " d) "
   ]
  },
  {
   "cell_type": "code",
   "execution_count": 30,
   "id": "70cba912",
   "metadata": {},
   "outputs": [
    {
     "data": {
      "text/html": [
       "<div>\n",
       "<style scoped>\n",
       "    .dataframe tbody tr th:only-of-type {\n",
       "        vertical-align: middle;\n",
       "    }\n",
       "\n",
       "    .dataframe tbody tr th {\n",
       "        vertical-align: top;\n",
       "    }\n",
       "\n",
       "    .dataframe thead th {\n",
       "        text-align: right;\n",
       "    }\n",
       "</style>\n",
       "<table border=\"1\" class=\"dataframe\">\n",
       "  <thead>\n",
       "    <tr style=\"text-align: right;\">\n",
       "      <th></th>\n",
       "      <th>tweet_id</th>\n",
       "      <th>in_reply_to_status_id</th>\n",
       "      <th>in_reply_to_user_id</th>\n",
       "      <th>timestamp</th>\n",
       "      <th>source</th>\n",
       "      <th>text</th>\n",
       "      <th>retweeted_status_id</th>\n",
       "      <th>retweeted_status_user_id</th>\n",
       "      <th>retweeted_status_timestamp</th>\n",
       "      <th>expanded_urls</th>\n",
       "      <th>rating_numerator</th>\n",
       "      <th>rating_denominator</th>\n",
       "      <th>name</th>\n",
       "      <th>variable</th>\n",
       "      <th>Breed</th>\n",
       "    </tr>\n",
       "  </thead>\n",
       "  <tbody>\n",
       "    <tr>\n",
       "      <th>447</th>\n",
       "      <td>819015331746349057</td>\n",
       "      <td>NaN</td>\n",
       "      <td>NaN</td>\n",
       "      <td>2017-01-11 02:57:26 +0000</td>\n",
       "      <td>&lt;a href=\"http://twitter.com/download/iphone\" r...</td>\n",
       "      <td>RT @dog_rates: This is Sunny. She was also a v...</td>\n",
       "      <td>8.190064e+17</td>\n",
       "      <td>4.196984e+09</td>\n",
       "      <td>2017-01-11 02:21:57 +0000</td>\n",
       "      <td>https://twitter.com/dog_rates/status/819006400...</td>\n",
       "      <td>14</td>\n",
       "      <td>10</td>\n",
       "      <td>Sunny</td>\n",
       "      <td>doggo</td>\n",
       "      <td>doggo</td>\n",
       "    </tr>\n",
       "  </tbody>\n",
       "</table>\n",
       "</div>"
      ],
      "text/plain": [
       "               tweet_id  in_reply_to_status_id  in_reply_to_user_id  \\\n",
       "447  819015331746349057                    NaN                  NaN   \n",
       "\n",
       "                     timestamp  \\\n",
       "447  2017-01-11 02:57:26 +0000   \n",
       "\n",
       "                                                source  \\\n",
       "447  <a href=\"http://twitter.com/download/iphone\" r...   \n",
       "\n",
       "                                                  text  retweeted_status_id  \\\n",
       "447  RT @dog_rates: This is Sunny. She was also a v...         8.190064e+17   \n",
       "\n",
       "     retweeted_status_user_id retweeted_status_timestamp  \\\n",
       "447              4.196984e+09  2017-01-11 02:21:57 +0000   \n",
       "\n",
       "                                         expanded_urls  rating_numerator  \\\n",
       "447  https://twitter.com/dog_rates/status/819006400...                14   \n",
       "\n",
       "     rating_denominator   name variable  Breed  \n",
       "447                  10  Sunny    doggo  doggo  "
      ]
     },
     "execution_count": 30,
     "metadata": {},
     "output_type": "execute_result"
    }
   ],
   "source": [
    "data.sample()"
   ]
  },
  {
   "cell_type": "code",
   "execution_count": 31,
   "id": "1e7446a5",
   "metadata": {},
   "outputs": [],
   "source": [
    "expanded_urls=pd.DataFrame(data['expanded_urls'])"
   ]
  },
  {
   "cell_type": "code",
   "execution_count": 32,
   "id": "03b77734",
   "metadata": {},
   "outputs": [],
   "source": [
    "def split_expanded_urls(col):\n",
    "    for x in range(len(col)):\n",
    "        temp =col.iloc[x]\n",
    "    return temp"
   ]
  },
  {
   "cell_type": "code",
   "execution_count": 33,
   "id": "1ab5d534",
   "metadata": {},
   "outputs": [],
   "source": [
    "data['expanded_urls'].isna().sum()\n",
    "data['expanded_urls'] = data['expanded_urls'].fillna(\"\")"
   ]
  },
  {
   "cell_type": "code",
   "execution_count": 34,
   "id": "a883a6e7",
   "metadata": {},
   "outputs": [
    {
     "data": {
      "text/plain": [
       "['dog_rates', 'status', '668636665813057536', 'photo', '1']"
      ]
     },
     "execution_count": 34,
     "metadata": {},
     "output_type": "execute_result"
    }
   ],
   "source": [
    "df.expanded_urls.str.split('/').sample(5).iloc[1][3:]\n",
    "# df.expanded_urls"
   ]
  },
  {
   "cell_type": "code",
   "execution_count": 35,
   "id": "4708303b",
   "metadata": {},
   "outputs": [],
   "source": [
    "df.expanded_urls=df.expanded_urls.fillna(\"\")"
   ]
  },
  {
   "cell_type": "code",
   "execution_count": 36,
   "id": "e882675e",
   "metadata": {},
   "outputs": [
    {
     "data": {
      "text/plain": [
       "0"
      ]
     },
     "execution_count": 36,
     "metadata": {},
     "output_type": "execute_result"
    }
   ],
   "source": [
    "df.expanded_urls.isna().sum()"
   ]
  },
  {
   "cell_type": "code",
   "execution_count": 37,
   "id": "f62ea684",
   "metadata": {},
   "outputs": [
    {
     "data": {
      "text/html": [
       "<div>\n",
       "<style scoped>\n",
       "    .dataframe tbody tr th:only-of-type {\n",
       "        vertical-align: middle;\n",
       "    }\n",
       "\n",
       "    .dataframe tbody tr th {\n",
       "        vertical-align: top;\n",
       "    }\n",
       "\n",
       "    .dataframe thead th {\n",
       "        text-align: right;\n",
       "    }\n",
       "</style>\n",
       "<table border=\"1\" class=\"dataframe\">\n",
       "  <thead>\n",
       "    <tr style=\"text-align: right;\">\n",
       "      <th></th>\n",
       "      <th>tweet_id</th>\n",
       "      <th>in_reply_to_status_id</th>\n",
       "      <th>in_reply_to_user_id</th>\n",
       "      <th>timestamp</th>\n",
       "      <th>source</th>\n",
       "      <th>text</th>\n",
       "      <th>retweeted_status_id</th>\n",
       "      <th>retweeted_status_user_id</th>\n",
       "      <th>retweeted_status_timestamp</th>\n",
       "      <th>expanded_urls</th>\n",
       "      <th>rating_numerator</th>\n",
       "      <th>rating_denominator</th>\n",
       "      <th>name</th>\n",
       "      <th>variable</th>\n",
       "      <th>Breed</th>\n",
       "    </tr>\n",
       "  </thead>\n",
       "  <tbody>\n",
       "    <tr>\n",
       "      <th>9</th>\n",
       "      <td>890240255349198849</td>\n",
       "      <td>NaN</td>\n",
       "      <td>NaN</td>\n",
       "      <td>2017-07-26 15:59:51 +0000</td>\n",
       "      <td>&lt;a href=\"http://twitter.com/download/iphone\" r...</td>\n",
       "      <td>This is Cassie. She is a college pup. Studying...</td>\n",
       "      <td>NaN</td>\n",
       "      <td>NaN</td>\n",
       "      <td>NaN</td>\n",
       "      <td>https://twitter.com/dog_rates/status/890240255...</td>\n",
       "      <td>14</td>\n",
       "      <td>10</td>\n",
       "      <td>Cassie</td>\n",
       "      <td>doggo</td>\n",
       "      <td>doggo</td>\n",
       "    </tr>\n",
       "    <tr>\n",
       "      <th>43</th>\n",
       "      <td>884162670584377345</td>\n",
       "      <td>NaN</td>\n",
       "      <td>NaN</td>\n",
       "      <td>2017-07-09 21:29:42 +0000</td>\n",
       "      <td>&lt;a href=\"http://twitter.com/download/iphone\" r...</td>\n",
       "      <td>Meet Yogi. He doesn't have any important dog m...</td>\n",
       "      <td>NaN</td>\n",
       "      <td>NaN</td>\n",
       "      <td>NaN</td>\n",
       "      <td>https://twitter.com/dog_rates/status/884162670...</td>\n",
       "      <td>12</td>\n",
       "      <td>10</td>\n",
       "      <td>Yogi</td>\n",
       "      <td>doggo</td>\n",
       "      <td>doggo</td>\n",
       "    </tr>\n",
       "    <tr>\n",
       "      <th>108</th>\n",
       "      <td>871515927908634625</td>\n",
       "      <td>NaN</td>\n",
       "      <td>NaN</td>\n",
       "      <td>2017-06-04 23:56:03 +0000</td>\n",
       "      <td>&lt;a href=\"http://twitter.com/download/iphone\" r...</td>\n",
       "      <td>This is Napolean. He's a Raggedy East Nicaragu...</td>\n",
       "      <td>NaN</td>\n",
       "      <td>NaN</td>\n",
       "      <td>NaN</td>\n",
       "      <td>https://twitter.com/dog_rates/status/871515927...</td>\n",
       "      <td>12</td>\n",
       "      <td>10</td>\n",
       "      <td>Napolean</td>\n",
       "      <td>doggo</td>\n",
       "      <td>doggo</td>\n",
       "    </tr>\n",
       "    <tr>\n",
       "      <th>121</th>\n",
       "      <td>869596645499047938</td>\n",
       "      <td>NaN</td>\n",
       "      <td>NaN</td>\n",
       "      <td>2017-05-30 16:49:31 +0000</td>\n",
       "      <td>&lt;a href=\"http://twitter.com/download/iphone\" r...</td>\n",
       "      <td>This is Scout. He just graduated. Officially a...</td>\n",
       "      <td>NaN</td>\n",
       "      <td>NaN</td>\n",
       "      <td>NaN</td>\n",
       "      <td>https://twitter.com/dog_rates/status/869596645...</td>\n",
       "      <td>12</td>\n",
       "      <td>10</td>\n",
       "      <td>Scout</td>\n",
       "      <td>doggo</td>\n",
       "      <td>doggo</td>\n",
       "    </tr>\n",
       "    <tr>\n",
       "      <th>211</th>\n",
       "      <td>851953902622658560</td>\n",
       "      <td>NaN</td>\n",
       "      <td>NaN</td>\n",
       "      <td>2017-04-12 00:23:33 +0000</td>\n",
       "      <td>&lt;a href=\"http://twitter.com/download/iphone\" r...</td>\n",
       "      <td>RT @dog_rates: This is Astrid. She's a guide d...</td>\n",
       "      <td>8.293743e+17</td>\n",
       "      <td>4.196984e+09</td>\n",
       "      <td>2017-02-08 17:00:26 +0000</td>\n",
       "      <td>https://twitter.com/dog_rates/status/829374341...</td>\n",
       "      <td>13</td>\n",
       "      <td>10</td>\n",
       "      <td>Astrid</td>\n",
       "      <td>doggo</td>\n",
       "      <td>doggo</td>\n",
       "    </tr>\n",
       "  </tbody>\n",
       "</table>\n",
       "</div>"
      ],
      "text/plain": [
       "               tweet_id  in_reply_to_status_id  in_reply_to_user_id  \\\n",
       "9    890240255349198849                    NaN                  NaN   \n",
       "43   884162670584377345                    NaN                  NaN   \n",
       "108  871515927908634625                    NaN                  NaN   \n",
       "121  869596645499047938                    NaN                  NaN   \n",
       "211  851953902622658560                    NaN                  NaN   \n",
       "\n",
       "                     timestamp  \\\n",
       "9    2017-07-26 15:59:51 +0000   \n",
       "43   2017-07-09 21:29:42 +0000   \n",
       "108  2017-06-04 23:56:03 +0000   \n",
       "121  2017-05-30 16:49:31 +0000   \n",
       "211  2017-04-12 00:23:33 +0000   \n",
       "\n",
       "                                                source  \\\n",
       "9    <a href=\"http://twitter.com/download/iphone\" r...   \n",
       "43   <a href=\"http://twitter.com/download/iphone\" r...   \n",
       "108  <a href=\"http://twitter.com/download/iphone\" r...   \n",
       "121  <a href=\"http://twitter.com/download/iphone\" r...   \n",
       "211  <a href=\"http://twitter.com/download/iphone\" r...   \n",
       "\n",
       "                                                  text  retweeted_status_id  \\\n",
       "9    This is Cassie. She is a college pup. Studying...                  NaN   \n",
       "43   Meet Yogi. He doesn't have any important dog m...                  NaN   \n",
       "108  This is Napolean. He's a Raggedy East Nicaragu...                  NaN   \n",
       "121  This is Scout. He just graduated. Officially a...                  NaN   \n",
       "211  RT @dog_rates: This is Astrid. She's a guide d...         8.293743e+17   \n",
       "\n",
       "     retweeted_status_user_id retweeted_status_timestamp  \\\n",
       "9                         NaN                        NaN   \n",
       "43                        NaN                        NaN   \n",
       "108                       NaN                        NaN   \n",
       "121                       NaN                        NaN   \n",
       "211              4.196984e+09  2017-02-08 17:00:26 +0000   \n",
       "\n",
       "                                         expanded_urls  rating_numerator  \\\n",
       "9    https://twitter.com/dog_rates/status/890240255...                14   \n",
       "43   https://twitter.com/dog_rates/status/884162670...                12   \n",
       "108  https://twitter.com/dog_rates/status/871515927...                12   \n",
       "121  https://twitter.com/dog_rates/status/869596645...                12   \n",
       "211  https://twitter.com/dog_rates/status/829374341...                13   \n",
       "\n",
       "     rating_denominator      name variable  Breed  \n",
       "9                    10    Cassie    doggo  doggo  \n",
       "43                   10      Yogi    doggo  doggo  \n",
       "108                  10  Napolean    doggo  doggo  \n",
       "121                  10     Scout    doggo  doggo  \n",
       "211                  10    Astrid    doggo  doggo  "
      ]
     },
     "execution_count": 37,
     "metadata": {},
     "output_type": "execute_result"
    }
   ],
   "source": [
    "data.head()"
   ]
  },
  {
   "cell_type": "code",
   "execution_count": 38,
   "id": "bebffebc",
   "metadata": {},
   "outputs": [
    {
     "data": {
      "text/plain": [
       "9       <a href=\"http://twitter.com/download/iphone\" r...\n",
       "43      <a href=\"http://twitter.com/download/iphone\" r...\n",
       "108     <a href=\"http://twitter.com/download/iphone\" r...\n",
       "121     <a href=\"http://twitter.com/download/iphone\" r...\n",
       "211     <a href=\"http://twitter.com/download/iphone\" r...\n",
       "                              ...                        \n",
       "7781    <a href=\"http://vine.co\" rel=\"nofollow\">Vine -...\n",
       "8029    <a href=\"http://twitter.com/download/iphone\" r...\n",
       "8103    <a href=\"http://twitter.com/download/iphone\" r...\n",
       "8116    <a href=\"http://twitter.com/download/iphone\" r...\n",
       "8151    <a href=\"http://twitter.com/download/iphone\" r...\n",
       "Name: source, Length: 226, dtype: object"
      ]
     },
     "execution_count": 38,
     "metadata": {},
     "output_type": "execute_result"
    }
   ],
   "source": [
    "data.source"
   ]
  },
  {
   "cell_type": "markdown",
   "id": "5c0c62e5",
   "metadata": {},
   "source": [
    "#### Removing the duplicated values for the tweet id column"
   ]
  },
  {
   "cell_type": "code",
   "execution_count": 39,
   "id": "c58442fc",
   "metadata": {},
   "outputs": [
    {
     "data": {
      "text/plain": [
       "226"
      ]
     },
     "execution_count": 39,
     "metadata": {},
     "output_type": "execute_result"
    },
    {
     "data": {
      "image/png": "[encoded data removed]",
      "text/plain": [
       "<Figure size 432x288 with 1 Axes>"
      ]
     },
     "metadata": {
      "needs_background": "light"
     },
     "output_type": "display_data"
    }
   ],
   "source": [
    "# investigating the data\n",
    "data.isna().sum().sort_values(ascending=False).plot(kind='bar')\n",
    "data.tweet_id.duplicated().count()"
   ]
  },
  {
   "cell_type": "code",
   "execution_count": 40,
   "id": "d3355ec7",
   "metadata": {},
   "outputs": [
    {
     "data": {
      "text/plain": [
       "in_reply_to_status_id         226\n",
       "in_reply_to_user_id           226\n",
       "retweeted_status_id           203\n",
       "retweeted_status_user_id      203\n",
       "retweeted_status_timestamp    203\n",
       "tweet_id                        0\n",
       "timestamp                       0\n",
       "source                          0\n",
       "text                            0\n",
       "expanded_urls                   0\n",
       "rating_numerator                0\n",
       "rating_denominator              0\n",
       "name                            0\n",
       "variable                        0\n",
       "Breed                           0\n",
       "dtype: int64"
      ]
     },
     "execution_count": 40,
     "metadata": {},
     "output_type": "execute_result"
    }
   ],
   "source": [
    "data.isna().sum().sort_values(ascending=False)"
   ]
  },
  {
   "cell_type": "markdown",
   "id": "8218d8b4",
   "metadata": {},
   "source": [
    "#### Removing the non important columns"
   ]
  },
  {
   "cell_type": "code",
   "execution_count": 41,
   "id": "466e8adf",
   "metadata": {},
   "outputs": [
    {
     "data": {
      "text/plain": [
       "tweet_id              0\n",
       "timestamp             0\n",
       "source                0\n",
       "text                  0\n",
       "expanded_urls         0\n",
       "rating_numerator      0\n",
       "rating_denominator    0\n",
       "name                  0\n",
       "variable              0\n",
       "Breed                 0\n",
       "dtype: int64"
      ]
     },
     "execution_count": 41,
     "metadata": {},
     "output_type": "execute_result"
    }
   ],
   "source": [
    "# identifying the columns to remove\n",
    "cols_to_remove = ['retweeted_status_timestamp','retweeted_status_user_id','retweeted_status_id','in_reply_to_user_id','in_reply_to_status_id']\n",
    "# droping the columns\n",
    "data.drop(axis=1,columns = cols_to_remove,inplace=True)\n",
    "# rechecking the data for any possible missing values\n",
    "data.isna().sum().sort_values(ascending=False)"
   ]
  },
  {
   "cell_type": "code",
   "execution_count": 42,
   "id": "5b2fe0e4",
   "metadata": {},
   "outputs": [
    {
     "data": {
      "text/plain": [
       "tweet_id              0\n",
       "timestamp             0\n",
       "source                0\n",
       "text                  0\n",
       "rating_numerator      0\n",
       "rating_denominator    0\n",
       "name                  0\n",
       "variable              0\n",
       "Breed                 0\n",
       "dtype: int64"
      ]
     },
     "execution_count": 42,
     "metadata": {},
     "output_type": "execute_result"
    }
   ],
   "source": [
    "# droping the raws with missing links\n",
    "data.drop(axis=0,columns=['expanded_urls'],inplace=True)\n",
    "# rechecking the data fro missing values\n",
    "data.isna().sum().sort_values(ascending=False)"
   ]
  },
  {
   "cell_type": "code",
   "execution_count": 43,
   "id": "d023bb8c",
   "metadata": {},
   "outputs": [],
   "source": [
    "# Removing the duplicated values\n",
    "data  = data.drop_duplicates(subset=['tweet_id'],keep = False)\n",
    "# data.tweet_id.value_counts()"
   ]
  },
  {
   "cell_type": "markdown",
   "id": "12784016",
   "metadata": {},
   "source": [
    "#### Cleaning the date format"
   ]
  },
  {
   "cell_type": "code",
   "execution_count": 44,
   "id": "8c9e813b",
   "metadata": {},
   "outputs": [
    {
     "data": {
      "text/plain": [
       "9       2017-07-26\n",
       "43      2017-07-09\n",
       "108     2017-06-04\n",
       "121     2017-05-30\n",
       "211     2017-04-12\n",
       "           ...    \n",
       "7781    2016-10-07\n",
       "8029    2016-07-07\n",
       "8103    2016-06-20\n",
       "8116    2016-06-16\n",
       "8151    2016-06-03\n",
       "Name: timestamp, Length: 214, dtype: object"
      ]
     },
     "execution_count": 44,
     "metadata": {},
     "output_type": "execute_result"
    }
   ],
   "source": [
    "data.timestamp = pd.to_datetime(data.timestamp).dt.date\n",
    "data.timestamp"
   ]
  },
  {
   "cell_type": "code",
   "execution_count": 45,
   "id": "f42ead60",
   "metadata": {},
   "outputs": [
    {
     "data": {
      "text/html": [
       "<div>\n",
       "<style scoped>\n",
       "    .dataframe tbody tr th:only-of-type {\n",
       "        vertical-align: middle;\n",
       "    }\n",
       "\n",
       "    .dataframe tbody tr th {\n",
       "        vertical-align: top;\n",
       "    }\n",
       "\n",
       "    .dataframe thead th {\n",
       "        text-align: right;\n",
       "    }\n",
       "</style>\n",
       "<table border=\"1\" class=\"dataframe\">\n",
       "  <thead>\n",
       "    <tr style=\"text-align: right;\">\n",
       "      <th></th>\n",
       "      <th>tweet_id</th>\n",
       "      <th>source</th>\n",
       "      <th>text</th>\n",
       "      <th>rating_numerator</th>\n",
       "      <th>rating_denominator</th>\n",
       "      <th>name</th>\n",
       "      <th>variable</th>\n",
       "      <th>Breed</th>\n",
       "    </tr>\n",
       "    <tr>\n",
       "      <th>timestamp</th>\n",
       "      <th></th>\n",
       "      <th></th>\n",
       "      <th></th>\n",
       "      <th></th>\n",
       "      <th></th>\n",
       "      <th></th>\n",
       "      <th></th>\n",
       "      <th></th>\n",
       "    </tr>\n",
       "  </thead>\n",
       "  <tbody>\n",
       "    <tr>\n",
       "      <th>2017-07-26</th>\n",
       "      <td>890240255349198849</td>\n",
       "      <td>&lt;a href=\"http://twitter.com/download/iphone\" r...</td>\n",
       "      <td>This is Cassie. She is a college pup. Studying...</td>\n",
       "      <td>14</td>\n",
       "      <td>10</td>\n",
       "      <td>Cassie</td>\n",
       "      <td>doggo</td>\n",
       "      <td>doggo</td>\n",
       "    </tr>\n",
       "    <tr>\n",
       "      <th>2017-07-09</th>\n",
       "      <td>884162670584377345</td>\n",
       "      <td>&lt;a href=\"http://twitter.com/download/iphone\" r...</td>\n",
       "      <td>Meet Yogi. He doesn't have any important dog m...</td>\n",
       "      <td>12</td>\n",
       "      <td>10</td>\n",
       "      <td>Yogi</td>\n",
       "      <td>doggo</td>\n",
       "      <td>doggo</td>\n",
       "    </tr>\n",
       "    <tr>\n",
       "      <th>2017-06-04</th>\n",
       "      <td>871515927908634625</td>\n",
       "      <td>&lt;a href=\"http://twitter.com/download/iphone\" r...</td>\n",
       "      <td>This is Napolean. He's a Raggedy East Nicaragu...</td>\n",
       "      <td>12</td>\n",
       "      <td>10</td>\n",
       "      <td>Napolean</td>\n",
       "      <td>doggo</td>\n",
       "      <td>doggo</td>\n",
       "    </tr>\n",
       "    <tr>\n",
       "      <th>2017-05-30</th>\n",
       "      <td>869596645499047938</td>\n",
       "      <td>&lt;a href=\"http://twitter.com/download/iphone\" r...</td>\n",
       "      <td>This is Scout. He just graduated. Officially a...</td>\n",
       "      <td>12</td>\n",
       "      <td>10</td>\n",
       "      <td>Scout</td>\n",
       "      <td>doggo</td>\n",
       "      <td>doggo</td>\n",
       "    </tr>\n",
       "    <tr>\n",
       "      <th>2017-04-12</th>\n",
       "      <td>851953902622658560</td>\n",
       "      <td>&lt;a href=\"http://twitter.com/download/iphone\" r...</td>\n",
       "      <td>RT @dog_rates: This is Astrid. She's a guide d...</td>\n",
       "      <td>13</td>\n",
       "      <td>10</td>\n",
       "      <td>Astrid</td>\n",
       "      <td>doggo</td>\n",
       "      <td>doggo</td>\n",
       "    </tr>\n",
       "  </tbody>\n",
       "</table>\n",
       "</div>"
      ],
      "text/plain": [
       "                      tweet_id  \\\n",
       "timestamp                        \n",
       "2017-07-26  890240255349198849   \n",
       "2017-07-09  884162670584377345   \n",
       "2017-06-04  871515927908634625   \n",
       "2017-05-30  869596645499047938   \n",
       "2017-04-12  851953902622658560   \n",
       "\n",
       "                                                       source  \\\n",
       "timestamp                                                       \n",
       "2017-07-26  <a href=\"http://twitter.com/download/iphone\" r...   \n",
       "2017-07-09  <a href=\"http://twitter.com/download/iphone\" r...   \n",
       "2017-06-04  <a href=\"http://twitter.com/download/iphone\" r...   \n",
       "2017-05-30  <a href=\"http://twitter.com/download/iphone\" r...   \n",
       "2017-04-12  <a href=\"http://twitter.com/download/iphone\" r...   \n",
       "\n",
       "                                                         text  \\\n",
       "timestamp                                                       \n",
       "2017-07-26  This is Cassie. She is a college pup. Studying...   \n",
       "2017-07-09  Meet Yogi. He doesn't have any important dog m...   \n",
       "2017-06-04  This is Napolean. He's a Raggedy East Nicaragu...   \n",
       "2017-05-30  This is Scout. He just graduated. Officially a...   \n",
       "2017-04-12  RT @dog_rates: This is Astrid. She's a guide d...   \n",
       "\n",
       "            rating_numerator  rating_denominator      name variable  Breed  \n",
       "timestamp                                                                   \n",
       "2017-07-26                14                  10    Cassie    doggo  doggo  \n",
       "2017-07-09                12                  10      Yogi    doggo  doggo  \n",
       "2017-06-04                12                  10  Napolean    doggo  doggo  \n",
       "2017-05-30                12                  10     Scout    doggo  doggo  \n",
       "2017-04-12                13                  10    Astrid    doggo  doggo  "
      ]
     },
     "execution_count": 45,
     "metadata": {},
     "output_type": "execute_result"
    }
   ],
   "source": [
    "# setting the time stamp as the data index for the dataframe\n",
    "data.set_index('timestamp',inplace=True)\n",
    "data.head()"
   ]
  },
  {
   "cell_type": "code",
   "execution_count": 46,
   "id": "ba0eb1a9",
   "metadata": {},
   "outputs": [
    {
     "data": {
      "text/plain": [
       "['<a href=\"http:',\n",
       " '',\n",
       " 'twitter.com',\n",
       " 'download',\n",
       " 'iphone\" rel=\"nofollow\">Twitter for iPhone<',\n",
       " 'a>']"
      ]
     },
     "execution_count": 46,
     "metadata": {},
     "output_type": "execute_result"
    }
   ],
   "source": [
    "data.source[0].split('/')"
   ]
  },
  {
   "cell_type": "code",
   "execution_count": 47,
   "id": "1f246bc8",
   "metadata": {},
   "outputs": [
    {
     "data": {
      "text/html": [
       "<div>\n",
       "<style scoped>\n",
       "    .dataframe tbody tr th:only-of-type {\n",
       "        vertical-align: middle;\n",
       "    }\n",
       "\n",
       "    .dataframe tbody tr th {\n",
       "        vertical-align: top;\n",
       "    }\n",
       "\n",
       "    .dataframe thead th {\n",
       "        text-align: right;\n",
       "    }\n",
       "</style>\n",
       "<table border=\"1\" class=\"dataframe\">\n",
       "  <thead>\n",
       "    <tr style=\"text-align: right;\">\n",
       "      <th></th>\n",
       "      <th>domain</th>\n",
       "      <th>source_</th>\n",
       "    </tr>\n",
       "    <tr>\n",
       "      <th>timestamp</th>\n",
       "      <th></th>\n",
       "      <th></th>\n",
       "    </tr>\n",
       "  </thead>\n",
       "  <tbody>\n",
       "    <tr>\n",
       "      <th>2017-07-26</th>\n",
       "      <td>twitter.com</td>\n",
       "      <td>download</td>\n",
       "    </tr>\n",
       "    <tr>\n",
       "      <th>2017-07-09</th>\n",
       "      <td>twitter.com</td>\n",
       "      <td>download</td>\n",
       "    </tr>\n",
       "    <tr>\n",
       "      <th>2017-06-04</th>\n",
       "      <td>twitter.com</td>\n",
       "      <td>download</td>\n",
       "    </tr>\n",
       "    <tr>\n",
       "      <th>2017-05-30</th>\n",
       "      <td>twitter.com</td>\n",
       "      <td>download</td>\n",
       "    </tr>\n",
       "    <tr>\n",
       "      <th>2017-04-12</th>\n",
       "      <td>twitter.com</td>\n",
       "      <td>download</td>\n",
       "    </tr>\n",
       "  </tbody>\n",
       "</table>\n",
       "</div>"
      ],
      "text/plain": [
       "                 domain   source_\n",
       "timestamp                        \n",
       "2017-07-26  twitter.com  download\n",
       "2017-07-09  twitter.com  download\n",
       "2017-06-04  twitter.com  download\n",
       "2017-05-30  twitter.com  download\n",
       "2017-04-12  twitter.com  download"
      ]
     },
     "execution_count": 47,
     "metadata": {},
     "output_type": "execute_result"
    }
   ],
   "source": [
    "# splitting the source column and creating a new dataframe from it\n",
    "source_data = data.source.str.split('/',expand=True)\n",
    "# creating a dataframe from split\n",
    "source_data = pd.DataFrame(source_data)\n",
    "# filtering the required columns from the data\n",
    "source_data['domain'] = source_data[2]\n",
    "source_data['source_']  = source_data[3]\n",
    "# getting the columns of interest\n",
    "source_data = source_data[['domain','source_']]\n",
    "# source_data.apply(np.where(source_data.source_ == 'a>',source_data.drop(axis=1),source_data.source_))\n",
    "# removing unwanted part of data\n",
    "source_data.head()"
   ]
  },
  {
   "cell_type": "code",
   "execution_count": 48,
   "id": "c54266cf",
   "metadata": {},
   "outputs": [],
   "source": [
    "# dropping the source column as it is not that useful now\n",
    "data.drop('source',axis = 1, inplace=True)"
   ]
  },
  {
   "cell_type": "code",
   "execution_count": 49,
   "id": "3bc89508",
   "metadata": {},
   "outputs": [
    {
     "data": {
      "text/html": [
       "<div>\n",
       "<style scoped>\n",
       "    .dataframe tbody tr th:only-of-type {\n",
       "        vertical-align: middle;\n",
       "    }\n",
       "\n",
       "    .dataframe tbody tr th {\n",
       "        vertical-align: top;\n",
       "    }\n",
       "\n",
       "    .dataframe thead th {\n",
       "        text-align: right;\n",
       "    }\n",
       "</style>\n",
       "<table border=\"1\" class=\"dataframe\">\n",
       "  <thead>\n",
       "    <tr style=\"text-align: right;\">\n",
       "      <th></th>\n",
       "      <th>tweet_id</th>\n",
       "      <th>text</th>\n",
       "      <th>rating_numerator</th>\n",
       "      <th>rating_denominator</th>\n",
       "      <th>name</th>\n",
       "      <th>variable</th>\n",
       "      <th>Breed</th>\n",
       "    </tr>\n",
       "    <tr>\n",
       "      <th>timestamp</th>\n",
       "      <th></th>\n",
       "      <th></th>\n",
       "      <th></th>\n",
       "      <th></th>\n",
       "      <th></th>\n",
       "      <th></th>\n",
       "      <th></th>\n",
       "    </tr>\n",
       "  </thead>\n",
       "  <tbody>\n",
       "    <tr>\n",
       "      <th>2017-05-24</th>\n",
       "      <td>867421006826221569</td>\n",
       "      <td>This is Shikha. She just watched you drop a sk...</td>\n",
       "      <td>12</td>\n",
       "      <td>10</td>\n",
       "      <td>Shikha</td>\n",
       "      <td>puppo</td>\n",
       "      <td>puppo</td>\n",
       "    </tr>\n",
       "    <tr>\n",
       "      <th>2015-12-05</th>\n",
       "      <td>672988786805112832</td>\n",
       "      <td>This is Schnozz. He's had a blurred tail since...</td>\n",
       "      <td>10</td>\n",
       "      <td>10</td>\n",
       "      <td>Schnozz</td>\n",
       "      <td>pupper</td>\n",
       "      <td>pupper</td>\n",
       "    </tr>\n",
       "    <tr>\n",
       "      <th>2017-05-30</th>\n",
       "      <td>869596645499047938</td>\n",
       "      <td>This is Scout. He just graduated. Officially a...</td>\n",
       "      <td>12</td>\n",
       "      <td>10</td>\n",
       "      <td>Scout</td>\n",
       "      <td>doggo</td>\n",
       "      <td>doggo</td>\n",
       "    </tr>\n",
       "    <tr>\n",
       "      <th>2017-01-06</th>\n",
       "      <td>817502432452313088</td>\n",
       "      <td>RT @dog_rates: Meet Herschel. He's slightly bi...</td>\n",
       "      <td>7</td>\n",
       "      <td>10</td>\n",
       "      <td>Herschel</td>\n",
       "      <td>pupper</td>\n",
       "      <td>pupper</td>\n",
       "    </tr>\n",
       "    <tr>\n",
       "      <th>2016-01-18</th>\n",
       "      <td>689143371370250240</td>\n",
       "      <td>Meet Trip. He likes wearing costumes that aren...</td>\n",
       "      <td>10</td>\n",
       "      <td>10</td>\n",
       "      <td>Trip</td>\n",
       "      <td>pupper</td>\n",
       "      <td>pupper</td>\n",
       "    </tr>\n",
       "  </tbody>\n",
       "</table>\n",
       "</div>"
      ],
      "text/plain": [
       "                      tweet_id  \\\n",
       "timestamp                        \n",
       "2017-05-24  867421006826221569   \n",
       "2015-12-05  672988786805112832   \n",
       "2017-05-30  869596645499047938   \n",
       "2017-01-06  817502432452313088   \n",
       "2016-01-18  689143371370250240   \n",
       "\n",
       "                                                         text  \\\n",
       "timestamp                                                       \n",
       "2017-05-24  This is Shikha. She just watched you drop a sk...   \n",
       "2015-12-05  This is Schnozz. He's had a blurred tail since...   \n",
       "2017-05-30  This is Scout. He just graduated. Officially a...   \n",
       "2017-01-06  RT @dog_rates: Meet Herschel. He's slightly bi...   \n",
       "2016-01-18  Meet Trip. He likes wearing costumes that aren...   \n",
       "\n",
       "            rating_numerator  rating_denominator      name variable   Breed  \n",
       "timestamp                                                                    \n",
       "2017-05-24                12                  10    Shikha    puppo   puppo  \n",
       "2015-12-05                10                  10   Schnozz   pupper  pupper  \n",
       "2017-05-30                12                  10     Scout    doggo   doggo  \n",
       "2017-01-06                 7                  10  Herschel   pupper  pupper  \n",
       "2016-01-18                10                  10      Trip   pupper  pupper  "
      ]
     },
     "execution_count": 49,
     "metadata": {},
     "output_type": "execute_result"
    }
   ],
   "source": [
    "# checking a sample of the dataset\n",
    "data.sample(5)"
   ]
  },
  {
   "cell_type": "code",
   "execution_count": 50,
   "id": "79221eeb",
   "metadata": {},
   "outputs": [
    {
     "data": {
      "text/html": [
       "<div>\n",
       "<style scoped>\n",
       "    .dataframe tbody tr th:only-of-type {\n",
       "        vertical-align: middle;\n",
       "    }\n",
       "\n",
       "    .dataframe tbody tr th {\n",
       "        vertical-align: top;\n",
       "    }\n",
       "\n",
       "    .dataframe thead th {\n",
       "        text-align: right;\n",
       "    }\n",
       "</style>\n",
       "<table border=\"1\" class=\"dataframe\">\n",
       "  <thead>\n",
       "    <tr style=\"text-align: right;\">\n",
       "      <th></th>\n",
       "      <th>tweet_id</th>\n",
       "      <th>text</th>\n",
       "      <th>rating_numerator</th>\n",
       "      <th>rating_denominator</th>\n",
       "      <th>name</th>\n",
       "      <th>variable</th>\n",
       "      <th>Breed</th>\n",
       "      <th>domain</th>\n",
       "      <th>source_</th>\n",
       "    </tr>\n",
       "    <tr>\n",
       "      <th>timestamp</th>\n",
       "      <th></th>\n",
       "      <th></th>\n",
       "      <th></th>\n",
       "      <th></th>\n",
       "      <th></th>\n",
       "      <th></th>\n",
       "      <th></th>\n",
       "      <th></th>\n",
       "      <th></th>\n",
       "    </tr>\n",
       "  </thead>\n",
       "  <tbody>\n",
       "    <tr>\n",
       "      <th>2017-07-26</th>\n",
       "      <td>890240255349198849</td>\n",
       "      <td>This is Cassie. She is a college pup. Studying...</td>\n",
       "      <td>14</td>\n",
       "      <td>10</td>\n",
       "      <td>Cassie</td>\n",
       "      <td>doggo</td>\n",
       "      <td>doggo</td>\n",
       "      <td>twitter.com</td>\n",
       "      <td>download</td>\n",
       "    </tr>\n",
       "    <tr>\n",
       "      <th>2017-07-09</th>\n",
       "      <td>884162670584377345</td>\n",
       "      <td>Meet Yogi. He doesn't have any important dog m...</td>\n",
       "      <td>12</td>\n",
       "      <td>10</td>\n",
       "      <td>Yogi</td>\n",
       "      <td>doggo</td>\n",
       "      <td>doggo</td>\n",
       "      <td>twitter.com</td>\n",
       "      <td>download</td>\n",
       "    </tr>\n",
       "    <tr>\n",
       "      <th>2017-06-04</th>\n",
       "      <td>871515927908634625</td>\n",
       "      <td>This is Napolean. He's a Raggedy East Nicaragu...</td>\n",
       "      <td>12</td>\n",
       "      <td>10</td>\n",
       "      <td>Napolean</td>\n",
       "      <td>doggo</td>\n",
       "      <td>doggo</td>\n",
       "      <td>twitter.com</td>\n",
       "      <td>download</td>\n",
       "    </tr>\n",
       "    <tr>\n",
       "      <th>2017-05-30</th>\n",
       "      <td>869596645499047938</td>\n",
       "      <td>This is Scout. He just graduated. Officially a...</td>\n",
       "      <td>12</td>\n",
       "      <td>10</td>\n",
       "      <td>Scout</td>\n",
       "      <td>doggo</td>\n",
       "      <td>doggo</td>\n",
       "      <td>twitter.com</td>\n",
       "      <td>download</td>\n",
       "    </tr>\n",
       "    <tr>\n",
       "      <th>2017-04-12</th>\n",
       "      <td>851953902622658560</td>\n",
       "      <td>RT @dog_rates: This is Astrid. She's a guide d...</td>\n",
       "      <td>13</td>\n",
       "      <td>10</td>\n",
       "      <td>Astrid</td>\n",
       "      <td>doggo</td>\n",
       "      <td>doggo</td>\n",
       "      <td>twitter.com</td>\n",
       "      <td>download</td>\n",
       "    </tr>\n",
       "  </tbody>\n",
       "</table>\n",
       "</div>"
      ],
      "text/plain": [
       "                      tweet_id  \\\n",
       "timestamp                        \n",
       "2017-07-26  890240255349198849   \n",
       "2017-07-09  884162670584377345   \n",
       "2017-06-04  871515927908634625   \n",
       "2017-05-30  869596645499047938   \n",
       "2017-04-12  851953902622658560   \n",
       "\n",
       "                                                         text  \\\n",
       "timestamp                                                       \n",
       "2017-07-26  This is Cassie. She is a college pup. Studying...   \n",
       "2017-07-09  Meet Yogi. He doesn't have any important dog m...   \n",
       "2017-06-04  This is Napolean. He's a Raggedy East Nicaragu...   \n",
       "2017-05-30  This is Scout. He just graduated. Officially a...   \n",
       "2017-04-12  RT @dog_rates: This is Astrid. She's a guide d...   \n",
       "\n",
       "            rating_numerator  rating_denominator      name variable  Breed  \\\n",
       "timestamp                                                                    \n",
       "2017-07-26                14                  10    Cassie    doggo  doggo   \n",
       "2017-07-09                12                  10      Yogi    doggo  doggo   \n",
       "2017-06-04                12                  10  Napolean    doggo  doggo   \n",
       "2017-05-30                12                  10     Scout    doggo  doggo   \n",
       "2017-04-12                13                  10    Astrid    doggo  doggo   \n",
       "\n",
       "                 domain   source_  \n",
       "timestamp                          \n",
       "2017-07-26  twitter.com  download  \n",
       "2017-07-09  twitter.com  download  \n",
       "2017-06-04  twitter.com  download  \n",
       "2017-05-30  twitter.com  download  \n",
       "2017-04-12  twitter.com  download  "
      ]
     },
     "execution_count": 50,
     "metadata": {},
     "output_type": "execute_result"
    }
   ],
   "source": [
    "# concatenating the two dataframes\n",
    "dts = [data,source_data]\n",
    "# combining the dataframes\n",
    "merged = pd.concat(dts,axis=1)\n",
    "merged.head()"
   ]
  },
  {
   "cell_type": "code",
   "execution_count": 51,
   "id": "e1601d89",
   "metadata": {},
   "outputs": [
    {
     "data": {
      "text/plain": [
       "(206, 7)"
      ]
     },
     "execution_count": 51,
     "metadata": {},
     "output_type": "execute_result"
    }
   ],
   "source": [
    "merged = merged[merged['source_'] != 'a>']\n",
    "merged.drop(['variable','tweet_id'],axis=1,inplace=True)\n",
    "merged.shape"
   ]
  },
  {
   "cell_type": "code",
   "execution_count": 52,
   "id": "7999d639",
   "metadata": {},
   "outputs": [
    {
     "data": {
      "text/plain": [
       "(214, 2)"
      ]
     },
     "execution_count": 52,
     "metadata": {},
     "output_type": "execute_result"
    }
   ],
   "source": [
    "source_data.shape"
   ]
  },
  {
   "cell_type": "code",
   "execution_count": 53,
   "id": "1a6e27c9",
   "metadata": {},
   "outputs": [
    {
     "data": {
      "text/plain": [
       "(0, 7)"
      ]
     },
     "execution_count": 53,
     "metadata": {},
     "output_type": "execute_result"
    }
   ],
   "source": [
    "data[data.name =='None'].shape"
   ]
  },
  {
   "cell_type": "markdown",
   "id": "bb2af712",
   "metadata": {},
   "source": [
    "## Done With Data Cleaning"
   ]
  },
  {
   "cell_type": "code",
   "execution_count": 54,
   "id": "8ea6cf05",
   "metadata": {},
   "outputs": [],
   "source": [
    "# saving the clean dataset into a csv file\n",
    "merged.to_csv('cleaned_tweets.csv',index = False)"
   ]
  },
  {
   "cell_type": "markdown",
   "id": "83d449f3",
   "metadata": {},
   "source": [
    "## Data Analysis"
   ]
  },
  {
   "cell_type": "code",
   "execution_count": 55,
   "id": "435d98c2",
   "metadata": {},
   "outputs": [
    {
     "data": {
      "text/html": [
       "<div>\n",
       "<style scoped>\n",
       "    .dataframe tbody tr th:only-of-type {\n",
       "        vertical-align: middle;\n",
       "    }\n",
       "\n",
       "    .dataframe tbody tr th {\n",
       "        vertical-align: top;\n",
       "    }\n",
       "\n",
       "    .dataframe thead th {\n",
       "        text-align: right;\n",
       "    }\n",
       "</style>\n",
       "<table border=\"1\" class=\"dataframe\">\n",
       "  <thead>\n",
       "    <tr style=\"text-align: right;\">\n",
       "      <th></th>\n",
       "      <th>text</th>\n",
       "      <th>rating_numerator</th>\n",
       "      <th>rating_denominator</th>\n",
       "      <th>name</th>\n",
       "      <th>Breed</th>\n",
       "      <th>domain</th>\n",
       "      <th>source_</th>\n",
       "    </tr>\n",
       "    <tr>\n",
       "      <th>timestamp</th>\n",
       "      <th></th>\n",
       "      <th></th>\n",
       "      <th></th>\n",
       "      <th></th>\n",
       "      <th></th>\n",
       "      <th></th>\n",
       "      <th></th>\n",
       "    </tr>\n",
       "  </thead>\n",
       "  <tbody>\n",
       "    <tr>\n",
       "      <th>2017-07-26</th>\n",
       "      <td>This is Cassie. She is a college pup. Studying...</td>\n",
       "      <td>14</td>\n",
       "      <td>10</td>\n",
       "      <td>Cassie</td>\n",
       "      <td>doggo</td>\n",
       "      <td>twitter.com</td>\n",
       "      <td>download</td>\n",
       "    </tr>\n",
       "    <tr>\n",
       "      <th>2017-07-09</th>\n",
       "      <td>Meet Yogi. He doesn't have any important dog m...</td>\n",
       "      <td>12</td>\n",
       "      <td>10</td>\n",
       "      <td>Yogi</td>\n",
       "      <td>doggo</td>\n",
       "      <td>twitter.com</td>\n",
       "      <td>download</td>\n",
       "    </tr>\n",
       "    <tr>\n",
       "      <th>2017-06-04</th>\n",
       "      <td>This is Napolean. He's a Raggedy East Nicaragu...</td>\n",
       "      <td>12</td>\n",
       "      <td>10</td>\n",
       "      <td>Napolean</td>\n",
       "      <td>doggo</td>\n",
       "      <td>twitter.com</td>\n",
       "      <td>download</td>\n",
       "    </tr>\n",
       "    <tr>\n",
       "      <th>2017-05-30</th>\n",
       "      <td>This is Scout. He just graduated. Officially a...</td>\n",
       "      <td>12</td>\n",
       "      <td>10</td>\n",
       "      <td>Scout</td>\n",
       "      <td>doggo</td>\n",
       "      <td>twitter.com</td>\n",
       "      <td>download</td>\n",
       "    </tr>\n",
       "    <tr>\n",
       "      <th>2017-04-12</th>\n",
       "      <td>RT @dog_rates: This is Astrid. She's a guide d...</td>\n",
       "      <td>13</td>\n",
       "      <td>10</td>\n",
       "      <td>Astrid</td>\n",
       "      <td>doggo</td>\n",
       "      <td>twitter.com</td>\n",
       "      <td>download</td>\n",
       "    </tr>\n",
       "  </tbody>\n",
       "</table>\n",
       "</div>"
      ],
      "text/plain": [
       "                                                         text  \\\n",
       "timestamp                                                       \n",
       "2017-07-26  This is Cassie. She is a college pup. Studying...   \n",
       "2017-07-09  Meet Yogi. He doesn't have any important dog m...   \n",
       "2017-06-04  This is Napolean. He's a Raggedy East Nicaragu...   \n",
       "2017-05-30  This is Scout. He just graduated. Officially a...   \n",
       "2017-04-12  RT @dog_rates: This is Astrid. She's a guide d...   \n",
       "\n",
       "            rating_numerator  rating_denominator      name  Breed  \\\n",
       "timestamp                                                           \n",
       "2017-07-26                14                  10    Cassie  doggo   \n",
       "2017-07-09                12                  10      Yogi  doggo   \n",
       "2017-06-04                12                  10  Napolean  doggo   \n",
       "2017-05-30                12                  10     Scout  doggo   \n",
       "2017-04-12                13                  10    Astrid  doggo   \n",
       "\n",
       "                 domain   source_  \n",
       "timestamp                          \n",
       "2017-07-26  twitter.com  download  \n",
       "2017-07-09  twitter.com  download  \n",
       "2017-06-04  twitter.com  download  \n",
       "2017-05-30  twitter.com  download  \n",
       "2017-04-12  twitter.com  download  "
      ]
     },
     "execution_count": 55,
     "metadata": {},
     "output_type": "execute_result"
    }
   ],
   "source": [
    "merged.head()"
   ]
  },
  {
   "cell_type": "code",
   "execution_count": 56,
   "id": "fbf00c36",
   "metadata": {},
   "outputs": [],
   "source": [
    "# sns.pairplot(merged)"
   ]
  },
  {
   "cell_type": "code",
   "execution_count": 57,
   "id": "711b6874",
   "metadata": {},
   "outputs": [
    {
     "name": "stdout",
     "output_type": "stream",
     "text": [
      "<class 'pandas.core.frame.DataFrame'>\n",
      "Index: 206 entries, 2017-07-26 to 2016-06-03\n",
      "Data columns (total 7 columns):\n",
      " #   Column              Non-Null Count  Dtype \n",
      "---  ------              --------------  ----- \n",
      " 0   text                206 non-null    object\n",
      " 1   rating_numerator    206 non-null    int64 \n",
      " 2   rating_denominator  206 non-null    int64 \n",
      " 3   name                206 non-null    object\n",
      " 4   Breed               206 non-null    object\n",
      " 5   domain              206 non-null    object\n",
      " 6   source_             206 non-null    object\n",
      "dtypes: int64(2), object(5)\n",
      "memory usage: 12.9+ KB\n"
     ]
    }
   ],
   "source": [
    "merged.info()"
   ]
  },
  {
   "cell_type": "code",
   "execution_count": 58,
   "id": "52bd2cf9",
   "metadata": {},
   "outputs": [
    {
     "data": {
      "text/html": [
       "<div>\n",
       "<style scoped>\n",
       "    .dataframe tbody tr th:only-of-type {\n",
       "        vertical-align: middle;\n",
       "    }\n",
       "\n",
       "    .dataframe tbody tr th {\n",
       "        vertical-align: top;\n",
       "    }\n",
       "\n",
       "    .dataframe thead th {\n",
       "        text-align: right;\n",
       "    }\n",
       "</style>\n",
       "<table border=\"1\" class=\"dataframe\">\n",
       "  <thead>\n",
       "    <tr style=\"text-align: right;\">\n",
       "      <th></th>\n",
       "      <th>rating_numerator</th>\n",
       "      <th>rating_denominator</th>\n",
       "    </tr>\n",
       "  </thead>\n",
       "  <tbody>\n",
       "    <tr>\n",
       "      <th>count</th>\n",
       "      <td>206.000000</td>\n",
       "      <td>206.0</td>\n",
       "    </tr>\n",
       "    <tr>\n",
       "      <th>mean</th>\n",
       "      <td>10.995146</td>\n",
       "      <td>10.0</td>\n",
       "    </tr>\n",
       "    <tr>\n",
       "      <th>std</th>\n",
       "      <td>2.119589</td>\n",
       "      <td>0.0</td>\n",
       "    </tr>\n",
       "    <tr>\n",
       "      <th>min</th>\n",
       "      <td>3.000000</td>\n",
       "      <td>10.0</td>\n",
       "    </tr>\n",
       "    <tr>\n",
       "      <th>25%</th>\n",
       "      <td>10.000000</td>\n",
       "      <td>10.0</td>\n",
       "    </tr>\n",
       "    <tr>\n",
       "      <th>50%</th>\n",
       "      <td>11.000000</td>\n",
       "      <td>10.0</td>\n",
       "    </tr>\n",
       "    <tr>\n",
       "      <th>75%</th>\n",
       "      <td>12.000000</td>\n",
       "      <td>10.0</td>\n",
       "    </tr>\n",
       "    <tr>\n",
       "      <th>max</th>\n",
       "      <td>27.000000</td>\n",
       "      <td>10.0</td>\n",
       "    </tr>\n",
       "  </tbody>\n",
       "</table>\n",
       "</div>"
      ],
      "text/plain": [
       "       rating_numerator  rating_denominator\n",
       "count        206.000000               206.0\n",
       "mean          10.995146                10.0\n",
       "std            2.119589                 0.0\n",
       "min            3.000000                10.0\n",
       "25%           10.000000                10.0\n",
       "50%           11.000000                10.0\n",
       "75%           12.000000                10.0\n",
       "max           27.000000                10.0"
      ]
     },
     "execution_count": 58,
     "metadata": {},
     "output_type": "execute_result"
    }
   ],
   "source": [
    "merged.describe()"
   ]
  },
  {
   "cell_type": "code",
   "execution_count": 59,
   "id": "06457ea1",
   "metadata": {},
   "outputs": [
    {
     "data": {
      "text/plain": [
       "<AxesSubplot:>"
      ]
     },
     "execution_count": 59,
     "metadata": {},
     "output_type": "execute_result"
    },
    {
     "data": {
      "image/png": "[encoded data removed]",
      "text/plain": [
       "<Figure size 432x288 with 1 Axes>"
      ]
     },
     "metadata": {
      "needs_background": "light"
     },
     "output_type": "display_data"
    }
   ],
   "source": [
    "# ploting the unique data values fro product category\n",
    "merged.source_.value_counts().plot(kind='bar')"
   ]
  },
  {
   "cell_type": "code",
   "execution_count": 60,
   "id": "255e68c4",
   "metadata": {},
   "outputs": [
    {
     "data": {
      "text/plain": [
       "Text(0, 0.5, 'Breed Count')"
      ]
     },
     "execution_count": 60,
     "metadata": {},
     "output_type": "execute_result"
    },
    {
     "data": {
      "image/png": "[encoded data removed]",
      "text/plain": [
       "<Figure size 432x288 with 1 Axes>"
      ]
     },
     "metadata": {
      "needs_background": "light"
     },
     "output_type": "display_data"
    }
   ],
   "source": [
    "merged.Breed.value_counts().plot(kind='bar')\n",
    "plt.title(\" Grouped By Breeds\")\n",
    "plt.xlabel('Breed')\n",
    "plt.ylabel('Breed Count')"
   ]
  },
  {
   "cell_type": "code",
   "execution_count": 61,
   "id": "4d6251d4",
   "metadata": {},
   "outputs": [
    {
     "data": {
      "text/html": [
       "<div>\n",
       "<style scoped>\n",
       "    .dataframe tbody tr th:only-of-type {\n",
       "        vertical-align: middle;\n",
       "    }\n",
       "\n",
       "    .dataframe tbody tr th {\n",
       "        vertical-align: top;\n",
       "    }\n",
       "\n",
       "    .dataframe thead th {\n",
       "        text-align: right;\n",
       "    }\n",
       "</style>\n",
       "<table border=\"1\" class=\"dataframe\">\n",
       "  <thead>\n",
       "    <tr style=\"text-align: right;\">\n",
       "      <th></th>\n",
       "      <th>tweet_id</th>\n",
       "      <th>text</th>\n",
       "      <th>rating_numerator</th>\n",
       "      <th>rating_denominator</th>\n",
       "      <th>name</th>\n",
       "      <th>variable</th>\n",
       "      <th>Breed</th>\n",
       "    </tr>\n",
       "    <tr>\n",
       "      <th>timestamp</th>\n",
       "      <th></th>\n",
       "      <th></th>\n",
       "      <th></th>\n",
       "      <th></th>\n",
       "      <th></th>\n",
       "      <th></th>\n",
       "      <th></th>\n",
       "    </tr>\n",
       "  </thead>\n",
       "  <tbody>\n",
       "    <tr>\n",
       "      <th>2017-07-26</th>\n",
       "      <td>890240255349198849</td>\n",
       "      <td>This is Cassie. She is a college pup. Studying...</td>\n",
       "      <td>14</td>\n",
       "      <td>10</td>\n",
       "      <td>Cassie</td>\n",
       "      <td>doggo</td>\n",
       "      <td>doggo</td>\n",
       "    </tr>\n",
       "    <tr>\n",
       "      <th>2017-07-09</th>\n",
       "      <td>884162670584377345</td>\n",
       "      <td>Meet Yogi. He doesn't have any important dog m...</td>\n",
       "      <td>12</td>\n",
       "      <td>10</td>\n",
       "      <td>Yogi</td>\n",
       "      <td>doggo</td>\n",
       "      <td>doggo</td>\n",
       "    </tr>\n",
       "    <tr>\n",
       "      <th>2017-06-04</th>\n",
       "      <td>871515927908634625</td>\n",
       "      <td>This is Napolean. He's a Raggedy East Nicaragu...</td>\n",
       "      <td>12</td>\n",
       "      <td>10</td>\n",
       "      <td>Napolean</td>\n",
       "      <td>doggo</td>\n",
       "      <td>doggo</td>\n",
       "    </tr>\n",
       "    <tr>\n",
       "      <th>2017-05-30</th>\n",
       "      <td>869596645499047938</td>\n",
       "      <td>This is Scout. He just graduated. Officially a...</td>\n",
       "      <td>12</td>\n",
       "      <td>10</td>\n",
       "      <td>Scout</td>\n",
       "      <td>doggo</td>\n",
       "      <td>doggo</td>\n",
       "    </tr>\n",
       "    <tr>\n",
       "      <th>2017-04-12</th>\n",
       "      <td>851953902622658560</td>\n",
       "      <td>RT @dog_rates: This is Astrid. She's a guide d...</td>\n",
       "      <td>13</td>\n",
       "      <td>10</td>\n",
       "      <td>Astrid</td>\n",
       "      <td>doggo</td>\n",
       "      <td>doggo</td>\n",
       "    </tr>\n",
       "  </tbody>\n",
       "</table>\n",
       "</div>"
      ],
      "text/plain": [
       "                      tweet_id  \\\n",
       "timestamp                        \n",
       "2017-07-26  890240255349198849   \n",
       "2017-07-09  884162670584377345   \n",
       "2017-06-04  871515927908634625   \n",
       "2017-05-30  869596645499047938   \n",
       "2017-04-12  851953902622658560   \n",
       "\n",
       "                                                         text  \\\n",
       "timestamp                                                       \n",
       "2017-07-26  This is Cassie. She is a college pup. Studying...   \n",
       "2017-07-09  Meet Yogi. He doesn't have any important dog m...   \n",
       "2017-06-04  This is Napolean. He's a Raggedy East Nicaragu...   \n",
       "2017-05-30  This is Scout. He just graduated. Officially a...   \n",
       "2017-04-12  RT @dog_rates: This is Astrid. She's a guide d...   \n",
       "\n",
       "            rating_numerator  rating_denominator      name variable  Breed  \n",
       "timestamp                                                                   \n",
       "2017-07-26                14                  10    Cassie    doggo  doggo  \n",
       "2017-07-09                12                  10      Yogi    doggo  doggo  \n",
       "2017-06-04                12                  10  Napolean    doggo  doggo  \n",
       "2017-05-30                12                  10     Scout    doggo  doggo  \n",
       "2017-04-12                13                  10    Astrid    doggo  doggo  "
      ]
     },
     "execution_count": 61,
     "metadata": {},
     "output_type": "execute_result"
    }
   ],
   "source": [
    "data.head()"
   ]
  },
  {
   "cell_type": "code",
   "execution_count": 62,
   "id": "2a7e351c",
   "metadata": {},
   "outputs": [
    {
     "data": {
      "text/plain": [
       "Text(0, 0.5, 'Total animals In the Breed Category')"
      ]
     },
     "execution_count": 62,
     "metadata": {},
     "output_type": "execute_result"
    },
    {
     "data": {
      "image/png": "[encoded data removed]",
      "text/plain": [
       "<Figure size 432x288 with 1 Axes>"
      ]
     },
     "metadata": {
      "needs_background": "light"
     },
     "output_type": "display_data"
    }
   ],
   "source": [
    "tempdf=merged.reset_index()\n",
    "grouped_breed=tempdf.groupby(tempdf['Breed'])['rating_numerator', 'rating_denominator'].sum()\n",
    "# grouped_breed = grouped_breed.sort_values(by=[],ascending=False)\n",
    "grouped_breed.plot.bar()\n",
    "plt.title(\"Total By Breed Group\")\n",
    "plt.xlabel('Rating Numerator || Rating Denominator')\n",
    "plt.ylabel(\"Total animals In the Breed Category\")"
   ]
  },
  {
   "cell_type": "code",
   "execution_count": 63,
   "id": "3c05be4b",
   "metadata": {},
   "outputs": [
    {
     "data": {
      "text/plain": [
       "Text(0, 0.5, 'Frequency')"
      ]
     },
     "execution_count": 63,
     "metadata": {},
     "output_type": "execute_result"
    },
    {
     "data": {
      "image/png": "[encoded data removed]",
      "text/plain": [
       "<Figure size 432x288 with 1 Axes>"
      ]
     },
     "metadata": {
      "needs_background": "light"
     },
     "output_type": "display_data"
    }
   ],
   "source": [
    "# grouped_by_name=tempdf.groupby('name')['rating_numerator', 'rating_denominator'].sum()\n",
    "# grouped_by_name\n",
    "# groupby does not work well with this data\n",
    "# visualizing the most mentioned dog\n",
    "merged.name.value_counts().nlargest(10).plot.bar(rot=90)\n",
    "plt.title(\"Top mentioned names\")\n",
    "plt.xlabel(\"Dog name\")\n",
    "plt.ylabel(\"Frequency\")"
   ]
  },
  {
   "cell_type": "code",
   "execution_count": 64,
   "id": "48941ddc",
   "metadata": {},
   "outputs": [
    {
     "data": {
      "text/plain": [
       "Text(0, 0.5, 'Frequency')"
      ]
     },
     "execution_count": 64,
     "metadata": {},
     "output_type": "execute_result"
    },
    {
     "data": {
      "image/png": "[encoded data removed]",
      "text/plain": [
       "<Figure size 432x288 with 1 Axes>"
      ]
     },
     "metadata": {
      "needs_background": "light"
     },
     "output_type": "display_data"
    }
   ],
   "source": [
    "# visualizing the least mentioned dog\n",
    "merged.name.value_counts().nsmallest(10).plot.bar(rot=90)\n",
    "plt.title(\"Least mentioned names\")\n",
    "plt.xlabel(\"Dog name\")\n",
    "plt.ylabel(\"Frequency\")"
   ]
  },
  {
   "cell_type": "code",
   "execution_count": 65,
   "id": "fe08fae2",
   "metadata": {},
   "outputs": [
    {
     "data": {
      "text/plain": [
       "Text(0.5, 0, 'Dog name')"
      ]
     },
     "execution_count": 65,
     "metadata": {},
     "output_type": "execute_result"
    },
    {
     "data": {
      "image/png": "[encoded data removed]",
      "text/plain": [
       "<Figure size 432x288 with 1 Axes>"
      ]
     },
     "metadata": {
      "needs_background": "light"
     },
     "output_type": "display_data"
    }
   ],
   "source": [
    "merged.plot('name')\n",
    "plt.title(\"Perfomance over time\")\n",
    "plt.xlabel(\"Dog name\")"
   ]
  },
  {
   "cell_type": "markdown",
   "id": "494c065a",
   "metadata": {},
   "source": [
    "### End of Analysis"
   ]
  },
  {
   "cell_type": "code",
   "execution_count": null,
   "id": "796b50ea",
   "metadata": {},
   "outputs": [],
   "source": []
  }
 ],
 "metadata": {
  "kernelspec": {
   "display_name": "Python [conda env:DaviSKi]",
   "language": "python",
   "name": "conda-env-DaviSKi-py"
  },
  "language_info": {
   "codemirror_mode": {
    "name": "ipython",
    "version": 3
   },
   "file_extension": ".py",
   "mimetype": "text/x-python",
   "name": "python",
   "nbconvert_exporter": "python",
   "pygments_lexer": "ipython3",
   "version": "3.9.0"
  }
 },
 "nbformat": 4,
 "nbformat_minor": 5
}
